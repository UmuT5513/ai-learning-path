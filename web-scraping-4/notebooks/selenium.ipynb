{
 "cells": [
  {
   "cell_type": "code",
   "execution_count": 1,
   "id": "2502ad56",
   "metadata": {},
   "outputs": [
    {
     "data": {
      "text/plain": [
       "'Example Domain'"
      ]
     },
     "execution_count": 1,
     "metadata": {},
     "output_type": "execute_result"
    }
   ],
   "source": [
    "from selenium import webdriver\n",
    "\n",
    "driver = webdriver.Chrome()\n",
    "driver.get(\"https://www.example.com\")\n",
    "driver.title"
   ]
  },
  {
   "cell_type": "markdown",
   "id": "f31c10b9",
   "metadata": {},
   "source": [
    "# xPath ile element bulma"
   ]
  },
  {
   "cell_type": "markdown",
   "id": "fc82df22",
   "metadata": {},
   "source": [
    "## method 1"
   ]
  },
  {
   "cell_type": "code",
   "execution_count": 4,
   "id": "4f869a68",
   "metadata": {},
   "outputs": [
    {
     "name": "stdout",
     "output_type": "stream",
     "text": [
      "More information...\n",
      "More information...\n",
      "https://www.iana.org/domains/example\n"
     ]
    }
   ],
   "source": [
    "from selenium.webdriver.common.by import By\n",
    "driver = webdriver.Chrome()\n",
    "driver.get(\"https://www.example.com\")\n",
    "element = driver.find_element(By.XPATH, '//a')\n",
    "print(element.text)\n",
    "print(element.get_attribute('innerText'))\n",
    "print(element.get_attribute('href'))"
   ]
  },
  {
   "cell_type": "markdown",
   "id": "81360a0f",
   "metadata": {},
   "source": [
    "### Özet: Selenium ile Link (a) Elementi Bulma ve İnceleme\n",
    "- Chrome tarayıcısı açılır ve 'example.com' sitesine gidilir.\n",
    "- XPath ile ilk `<a>` (link) elementi bulunur.\n",
    "- Bu elementin görünen metni (`text`), içeriği (`innerText`) ve bağlantı adresi (`href`) ekrana yazdırılır.\n",
    "- Bu kod, Selenium ile bir web sayfasındaki linklerin nasıl bulunup incelenebileceğini gösterir."
   ]
  },
  {
   "cell_type": "markdown",
   "id": "43e2280e",
   "metadata": {},
   "source": [
    "# elementler ile etkileşime geçme"
   ]
  },
  {
   "cell_type": "code",
   "execution_count": null,
   "id": "34af55f6",
   "metadata": {},
   "outputs": [],
   "source": [
    "from selenium.webdriver.common.keys import Keys\n",
    "import time\n",
    "\n",
    "# tarayıcıyı tam ekranda başlatır\n",
    "options = webdriver.ChromeOptions()\n",
    "options.add_argument(\"--start-maximized\")\n",
    "\n",
    "driver = webdriver.Chrome(options)\n",
    "driver.get(\"https://www.miuul.com\")\n",
    "time.sleep(2)\n",
    "\n",
    "#login_button = driver.find_elements(By.XPATH, \"//a[@id='login']\")[0]\n",
    "#login_button.click()\n",
    "\n",
    "input_search = driver.find_elements(By.XPATH, \"//input[@name='arama']\")[0]\n",
    "input_search.send_keys('Data Science') # arama çubuğuna datascience yazar\n",
    "input_search.send_keys(Keys.ENTER) # enter tuşuna basar"
   ]
  },
  {
   "cell_type": "markdown",
   "id": "d9c22b42",
   "metadata": {},
   "source": [
    "### Özet: Selenium ile Web Sitesinde Otomatik Giriş ve Arama\n",
    "- Chrome tarayıcısı açılır ve 'miuul.com' sitesine gidilir.\n",
    "- Giriş (login) butonu XPath ile bulunup tıklanır.\n",
    "- Arama kutusu bulunur, 'Data Science' yazılır ve Enter tuşuna basılarak arama yapılır.\n",
    "- Bu kod, Selenium ile web sayfasında butonlara tıklama ve form doldurma gibi temel etkileşimleri gösterir."
   ]
  },
  {
   "cell_type": "markdown",
   "id": "977d055a",
   "metadata": {},
   "source": [
    "# web sayfasının görünmeyen kısmıyla etkileşime girememe: scrolling ve dropdown içinde scrolling"
   ]
  },
  {
   "cell_type": "markdown",
   "id": "5907cdfc",
   "metadata": {},
   "source": [
    "## scrolling"
   ]
  },
  {
   "cell_type": "code",
   "execution_count": null,
   "id": "2b0ee513",
   "metadata": {},
   "outputs": [],
   "source": [
    "e_element = driver.find_element(By.XPATH,\"blabla\") \n",
    "\n",
    "#ekranı aşağıya indirir\n",
    "driver.execute_script(\"argyments[0].scrollIntoView();\",e_element)\n",
    "\n",
    "e_element.click() # eğer buton ise send_keys(Keys.ENTER)"
   ]
  },
  {
   "cell_type": "markdown",
   "id": "7d3a9e0b",
   "metadata": {},
   "source": [
    "## dropdown içinde scrolling"
   ]
  },
  {
   "cell_type": "markdown",
   "id": "e1391baa",
   "metadata": {},
   "source": [
    "# Not"
   ]
  },
  {
   "cell_type": "markdown",
   "id": "3c2a6645",
   "metadata": {},
   "source": [
    "## XPath Soru Çözümü\n",
    "\n",
    "**Soru:**  \n",
    "Text’inde \"name\" geçen ve `<p>` olmayan elementi bulmak için aşağıdaki XPath sorgularından hangisi kullanılmalıdır?\n",
    "\n",
    "---\n",
    "\n",
    "### Seçenekler\n",
    "\n",
    "**A)** `//*[contains(text(),'name') and not(p)]`  \n",
    "**B)** `//*[contains(text(),'name') and not(self::p)]`\n",
    "\n",
    "---\n",
    "\n",
    "### Doğru Cevap: B ✅\n",
    "\n",
    "#### Açıklama:\n",
    "\n",
    "XPath ifadesinde, amacımız:\n",
    "- İçeriğinde `\"name\"` geçen elementleri bulmak\n",
    "- Ancak `<p>` elementi **olmayan değil**, **bizzat kendisi `<p>` olmayan** elementleri seçmek\n",
    "\n",
    "#### Seçenek Analizi:\n",
    "\n",
    "##### ❌ A: `//*[contains(text(),'name') and not(p)]`\n",
    "- `not(p)` ifadesi, sadece **içinde `<p>` elementi olmayan** düğümleri filtreler.\n",
    "- Bu ifade, kendisi `<p>` olan bir elementi hariç tutmaz.\n",
    "- Dolayısıyla bu ifade sorunun amacına uygun **değildir**.\n",
    "\n",
    "##### ✅ B: `//*[contains(text(),'name') and not(self::p)]`\n",
    "- `not(self::p)` ifadesi, doğrudan kendisi `<p>` olan öğeleri filtreler.\n",
    "- Bu, bizden istenen koşulu tam olarak karşılar.\n",
    "\n",
    "---\n",
    "\n",
    "#### Sonuç:\n",
    "\n",
    "Doğru XPath ifadesi:  \n",
    "```xpath\n",
    "//*[contains(text(),'name') and not(self::p)]\n"
   ]
  }
 ],
 "metadata": {
  "kernelspec": {
   "display_name": "Python 3",
   "language": "python",
   "name": "python3"
  },
  "language_info": {
   "codemirror_mode": {
    "name": "ipython",
    "version": 3
   },
   "file_extension": ".py",
   "mimetype": "text/x-python",
   "name": "python",
   "nbconvert_exporter": "python",
   "pygments_lexer": "ipython3",
   "version": "3.12.11"
  }
 },
 "nbformat": 4,
 "nbformat_minor": 5
}

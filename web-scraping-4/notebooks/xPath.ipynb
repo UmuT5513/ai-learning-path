{
 "cells": [
  {
   "cell_type": "markdown",
   "id": "5eb85674",
   "metadata": {},
   "source": [
    "# xPath Fonksiyonları\n",
    "\n",
    "* **contains(@id/@class,str)**\n",
    "\n",
    "    `contains(@class, 'promoted-product')`\n",
    "\n",
    "* **starts_with(@id/@class,str)**\n",
    "    \n",
    "    `starts_with(@class, 'promoted-product')`\n",
    "\n",
    "* **text()**\n",
    "\n",
    "    `//div/text()`\n",
    "\n",
    "* **not()**\n",
    "\n",
    "    *içerisinde şu element olmasın*\n",
    "\n",
    "* **last()**\n",
    "\n",
    "    *sonuncu elemente erişmek için*"
   ]
  },
  {
   "cell_type": "markdown",
   "id": "fa7646d7",
   "metadata": {},
   "source": [
    "# xPath with Python"
   ]
  },
  {
   "cell_type": "code",
   "execution_count": null,
   "id": "d02ac29f",
   "metadata": {},
   "outputs": [],
   "source": [
    "%pip install parsel requests\n",
    "\n",
    "import requests\n",
    "from parsel import Selector\n",
    "\n",
    "# 1. Hedef URL\n",
    "url = 'https://example.com'  # URL'yi tam olarak belirtin\n",
    "\n",
    "# 2. HTTP isteği gönder\n",
    "response = requests.get(url)\n",
    "\n",
    "# 3. Yanıtı parse et\n",
    "sel = Selector(text=response.text)\n",
    "\n",
    "# 4. XPath kullanarak istedigimiz verileri al\n",
    "# Örnek: <h1> etiketindeki başlığı alalım\n",
    "title = sel.xpath('//h1/text()').get()\n",
    "\n",
    "# 5. Sonucu yazdır\n",
    "print(\"Başlık:\", title)\n"
   ]
  },
  {
   "cell_type": "markdown",
   "id": "9798e9ef",
   "metadata": {},
   "source": [
    "## Kısa Özet: xPath ve Python ile Web Scraping\n",
    "- requests ile web sayfası içeriği çekilir.\n",
    "- parsel.Selector ile HTML parse edilir.\n",
    "- XPath ifadeleriyle istenen veriler seçilir.\n",
    "- Sonuçlar ekrana yazdırılır.\n",
    "- Sık kullanılan xPath fonksiyonları: contains, starts-with, text(), not(), last()."
   ]
  }
 ],
 "metadata": {
  "language_info": {
   "name": "python"
  }
 },
 "nbformat": 4,
 "nbformat_minor": 5
}

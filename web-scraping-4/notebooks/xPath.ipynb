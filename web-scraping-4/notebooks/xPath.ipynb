{
 "cells": [
  {
   "cell_type": "markdown",
   "id": "5eb85674",
   "metadata": {},
   "source": [
    "# xPath Fonksiyonları\n",
    "\n",
    "* **contains(@id/@class,str)**\n",
    "\n",
    "    `contains(@class, 'promoted-product')`\n",
    "\n",
    "* **starts_with(@id/@class,str)**\n",
    "    \n",
    "    `starts_with(@class, 'promoted-product')`\n",
    "\n",
    "* **text()**\n",
    "\n",
    "    `//div/text()`\n",
    "\n",
    "* **not()**\n",
    "\n",
    "    *içerisinde şu element olmasın*\n",
    "\n",
    "* **last()**\n",
    "\n",
    "    *sonuncu elemente erişmek için*"
   ]
  },
  {
   "cell_type": "code",
   "execution_count": null,
   "id": "d02ac29f",
   "metadata": {},
   "outputs": [],
   "source": []
  }
 ],
 "metadata": {
  "language_info": {
   "name": "python"
  }
 },
 "nbformat": 4,
 "nbformat_minor": 5
}

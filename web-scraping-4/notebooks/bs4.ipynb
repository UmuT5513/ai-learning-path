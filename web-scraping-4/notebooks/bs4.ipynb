{
 "cells": [
  {
   "cell_type": "code",
   "execution_count": 2,
   "id": "b997931f",
   "metadata": {},
   "outputs": [],
   "source": [
    "from bs4 import BeautifulSoup"
   ]
  },
  {
   "cell_type": "markdown",
   "id": "b9ac5461",
   "metadata": {},
   "source": [
    "# html navigations"
   ]
  },
  {
   "cell_type": "code",
   "execution_count": 9,
   "id": "ccbfdef1",
   "metadata": {},
   "outputs": [
    {
     "name": "stdout",
     "output_type": "stream",
     "text": [
      "<ul>\n",
      " <li class=\"list-item\">\n",
      "  One\n",
      " </li>\n",
      " <li class=\"list-item\">\n",
      "  Two\n",
      " </li>\n",
      "</ul>\n",
      "<li>\n",
      " Outsider Three\n",
      "</li>\n",
      "\n",
      "[<li class=\"list-item\">One</li>, <li class=\"list-item\">Two</li>, <li>Outsider Three</li>]\n",
      "[<li class=\"list-item\">One</li>, <li class=\"list-item\">Two</li>]\n"
     ]
    },
    {
     "data": {
      "text/plain": [
       "[<li class=\"list-item\">One</li>, <li class=\"list-item\">Two</li>]"
      ]
     },
     "execution_count": 9,
     "metadata": {},
     "output_type": "execute_result"
    }
   ],
   "source": [
    "html = \"<ul><li class='list-item'>One</li><li class='list-item'>Two</li></ul><li>Outsider Three</li>\"\n",
    "bs = BeautifulSoup(html, \"html.parser\")\n",
    "print(bs.prettify()) # girintili hale getirir.\n",
    "print(bs.find_all(\"li\")) # all li elements\n",
    "print(bs.find_all(\"li\", class_=\"list-item\")) # all li elements with class list-item\n",
    "\n",
    "# önce ul u bul sonra içindeki li leri getir.\n",
    "ul = bs.find(\"ul\")\n",
    "print(ul.find_all(\"li\"))\n",
    "\n",
    "# ya da aynı li lere class üzerinden eriş\n",
    "bs.find_all(\"li\", attrs={\"class\": \"list-item\"})\n"
   ]
  },
  {
   "cell_type": "markdown",
   "id": "29812212",
   "metadata": {},
   "source": [
    "### Özet: BeautifulSoup ile HTML'den Eleman Seçimi\n",
    "- `find_all('li')`: Tüm `<li>` etiketlerini bulur.\n",
    "- `find_all('li', class_='list-item')`: Sadece class'ı `list-item` olan `<li>` etiketlerini bulur.\n",
    "- Önce `<ul>` etiketi bulunup, ardından içindeki `<li>`'ler alınabilir.\n",
    "- Alternatif olarak, `attrs={\"class\": \"list-item\"}` ile de class'a göre seçim yapılabilir.\n",
    "- `prettify()`: HTML'i girintili ve okunabilir şekilde yazdırır."
   ]
  },
  {
   "cell_type": "markdown",
   "id": "32f0279d",
   "metadata": {},
   "source": [
    "# web den bir sayfa erişmek"
   ]
  },
  {
   "cell_type": "code",
   "execution_count": 16,
   "id": "4991fe9c",
   "metadata": {},
   "outputs": [
    {
     "name": "stdout",
     "output_type": "stream",
     "text": [
      "200\n",
      "<h1>Example Domain</h1>\n"
     ]
    }
   ],
   "source": [
    "import requests\n",
    "from bs4 import BeautifulSoup\n",
    "\n",
    "result = requests.get(\"https://www.example.com\")\n",
    "print(result.status_code)\n",
    "html = result.content\n",
    "soup = BeautifulSoup(html, 'html.parser')\n",
    "print(soup.find('h1'))"
   ]
  },
  {
   "cell_type": "markdown",
   "id": "211f03f2",
   "metadata": {},
   "source": [
    "#### Özet: Web'den Sayfa Çekme ve BeautifulSoup ile Analiz\n",
    "- `requests.get(...)` ile web sayfası içeriği çekilir.\n",
    "- `result.status_code` ile isteğin başarılı olup olmadığı kontrol edilir.\n",
    "- `BeautifulSoup(html, 'html.parser')` ile HTML parse edilir.\n",
    "- `soup.find('h1')` ile ilk `<h1>` etiketi bulunur ve ekrana yazdırılır."
   ]
  },
  {
   "cell_type": "code",
   "execution_count": null,
   "id": "fe852976",
   "metadata": {},
   "outputs": [],
   "source": []
  }
 ],
 "metadata": {
  "kernelspec": {
   "display_name": "Python 3",
   "language": "python",
   "name": "python3"
  },
  "language_info": {
   "codemirror_mode": {
    "name": "ipython",
    "version": 3
   },
   "file_extension": ".py",
   "mimetype": "text/x-python",
   "name": "python",
   "nbconvert_exporter": "python",
   "pygments_lexer": "ipython3",
   "version": "3.12.11"
  }
 },
 "nbformat": 4,
 "nbformat_minor": 5
}

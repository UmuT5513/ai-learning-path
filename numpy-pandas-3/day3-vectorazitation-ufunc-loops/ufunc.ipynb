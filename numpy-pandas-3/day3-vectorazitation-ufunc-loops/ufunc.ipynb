{
 "cells": [
  {
   "cell_type": "code",
   "execution_count": 1,
   "id": "18f894f5",
   "metadata": {},
   "outputs": [],
   "source": [
    "import numpy as np"
   ]
  },
  {
   "cell_type": "markdown",
   "id": "368f23f3",
   "metadata": {},
   "source": [
    "# Built-in Numpy Ufuncs\n",
    "\n",
    "* `unary ufunc` ve `binary ufunc`\n",
    "\n",
    "* `abs, exp, sqrt, add, max ...`"
   ]
  },
  {
   "cell_type": "markdown",
   "id": "434832e3",
   "metadata": {},
   "source": [
    "## unary ufunc\n",
    "\n",
    "****take one array (ndarray) as the argument****"
   ]
  },
  {
   "cell_type": "code",
   "execution_count": 1,
   "id": "894f9650",
   "metadata": {},
   "outputs": [
    {
     "name": "stdout",
     "output_type": "stream",
     "text": [
      "<class 'function'> <class 'numpy.ufunc'>\n"
     ]
    }
   ],
   "source": [
    "import numpy as np\n",
    "\n",
    "def my_add_two(x):\n",
    "    return x + 2\n",
    "\n",
    "#create ufunc\n",
    "np_my_add_two = np.frompyfunc(my_add_two, 1, 1)\n",
    "# check types\n",
    "print(type(my_add_two), type(np_my_add_two))"
   ]
  },
  {
   "cell_type": "markdown",
   "id": "55427369",
   "metadata": {},
   "source": [
    "* Unutmayalım! İkiside aynı şey işlemi yapsa da **np** bunu vectorize bir şekilde yapar ve zamandan(hatta belki memoryden) tasarruf eder."
   ]
  },
  {
   "cell_type": "code",
   "execution_count": 2,
   "id": "77fe0da3",
   "metadata": {},
   "outputs": [
    {
     "name": "stdout",
     "output_type": "stream",
     "text": [
      "<class 'function'> <class 'numpy.ufunc'>\n"
     ]
    }
   ],
   "source": [
    "\n",
    "def my_sum(x, y):\n",
    "    return x + y\n",
    "\n",
    "\n",
    "#create ufunc\n",
    "np_my_sum = np.frompyfunc(my_sum, 2, 1)\n",
    "# check types\n",
    "print(type(my_sum), type(np_my_sum))"
   ]
  },
  {
   "cell_type": "markdown",
   "id": "62c48fa7",
   "metadata": {},
   "source": [
    "## Numba ufunc creation: the vectorize decorator\n",
    "\n",
    "* Numba'nın `@vectorize` dekoratörü ile oluşturulan bir fonksiyon, derleme sayesinde C ile yazılmış NumPy ufunc'ları kadar hızlı çalışabilir"
   ]
  },
  {
   "cell_type": "code",
   "execution_count": 3,
   "id": "f4d99549",
   "metadata": {},
   "outputs": [
    {
     "name": "stdout",
     "output_type": "stream",
     "text": [
      "<class 'numba.np.ufunc.dufunc.DUFunc'>\n",
      "2\n",
      "[2. 2.]\n"
     ]
    }
   ],
   "source": [
    "from numba import vectorize, int64, float32, float64\n",
    "\n",
    "\n",
    "# create default ufunc with datatypes conversion\n",
    "@vectorize(\n",
    "    [\n",
    "    int64(int64,int64), \n",
    "    float32(float32,float32), \n",
    "    float64(float64,float64)\n",
    "    ],\n",
    "    nopython=True,\n",
    "    cache=True,\n",
    "    fastmath=True,\n",
    ")\n",
    "def numba_dtype_opt_sum(x, y):\n",
    "    return x + y\n",
    "\n",
    "# check type\n",
    "print(type(numba_dtype_opt_sum))\n",
    "\n",
    "# check that function works on scalars\n",
    "print(numba_dtype_opt_sum(1, 1))\n",
    "\n",
    "# check that function works on arrays\n",
    "print(numba_dtype_opt_sum(np.ones(2), np.ones(2)))"
   ]
  },
  {
   "cell_type": "markdown",
   "id": "42fcfcdf",
   "metadata": {},
   "source": [
    "## ufunc creation: NumPy vs. Numba"
   ]
  },
  {
   "cell_type": "markdown",
   "id": "587f0786",
   "metadata": {},
   "source": [
    "**In this section, we will compare the computation times from several approaches to add two 2D NumPy arrays (ndarray). We will use the following ufuncs:**\n",
    "\n",
    "* NumPy **built-in** add `(np.add)`\n",
    "\n",
    "* `np_my_sum`, **ufunc created with** `np.frompyfunc`\n",
    "\n",
    "* `numba_lazy_sum`, **ufunc created with Numba’s vectorize decorator**, with default arguments and no dtypes information\n",
    "\n",
    "* `numba_dtype_sum`, **ufunc created with the vectorize decorator**, *stating dtype conversion* for compilation\n",
    "\n",
    "* `numba_dtype_opt_sum`, **ufunc created with the vectorize decorator**, stating dtype conversion for compilation *plus optimizing arguments* for performance"
   ]
  },
  {
   "cell_type": "code",
   "execution_count": null,
   "id": "44342266",
   "metadata": {},
   "outputs": [
    {
     "name": "stdout",
     "output_type": "stream",
     "text": [
      "[[        0         2         4 ...     19994     19996     19998]\n",
      " [    20000     20002     20004 ...     39994     39996     39998]\n",
      " [    40000     40002     40004 ...     59994     59996     59998]\n",
      " ...\n",
      " [199940000 199940002 199940004 ... 199959994 199959996 199959998]\n",
      " [199960000 199960002 199960004 ... 199979994 199979996 199979998]\n",
      " [199980000 199980002 199980004 ... 199999994 199999996 199999998]]\n",
      "numpy built-in binary add: 0.20944690704345703\n",
      "[[0 2 4 ... 19994 19996 19998]\n",
      " [20000 20002 20004 ... 39994 39996 39998]\n",
      " [40000 40002 40004 ... 59994 59996 59998]\n",
      " ...\n",
      " [199940000 199940002 199940004 ... 199959994 199959996 199959998]\n",
      " [199960000 199960002 199960004 ... 199979994 199979996 199979998]\n",
      " [199980000 199980002 199980004 ... 199999994 199999996 199999998]]\n",
      "numpy ufunc from ordinary Python function: 11.20490312576294\n",
      "[[        0         2         4 ...     19994     19996     19998]\n",
      " [    20000     20002     20004 ...     39994     39996     39998]\n",
      " [    40000     40002     40004 ...     59994     59996     59998]\n",
      " ...\n",
      " [199940000 199940002 199940004 ... 199959994 199959996 199959998]\n",
      " [199960000 199960002 199960004 ... 199979994 199979996 199979998]\n",
      " [199980000 199980002 199980004 ... 199999994 199999996 199999998]]\n",
      "numba ufunc lazy mode: 0.3147718906402588\n",
      "[[        0         2         4 ...     19994     19996     19998]\n",
      " [    20000     20002     20004 ...     39994     39996     39998]\n",
      " [    40000     40002     40004 ...     59994     59996     59998]\n",
      " ...\n",
      " [199940000 199940002 199940004 ... 199959994 199959996 199959998]\n",
      " [199960000 199960002 199960004 ... 199979994 199979996 199979998]\n",
      " [199980000 199980002 199980004 ... 199999994 199999996 199999998]]\n",
      "numba ufunc with dtypes: 0.22991299629211426\n",
      "[[        0         2         4 ...     19994     19996     19998]\n",
      " [    20000     20002     20004 ...     39994     39996     39998]\n",
      " [    40000     40002     40004 ...     59994     59996     59998]\n",
      " ...\n",
      " [199940000 199940002 199940004 ... 199959994 199959996 199959998]\n",
      " [199960000 199960002 199960004 ... 199979994 199979996 199979998]\n",
      " [199980000 199980002 199980004 ... 199999994 199999996 199999998]]\n",
      "numba ufunc with dtypes and other vectorize arguments: 0.2262401580810547\n"
     ]
    }
   ],
   "source": [
    "from time import time\n",
    "# create test 2D arrays 10_000 x 10_000\n",
    "l = 10_000\n",
    "a = np.arange(l * l).reshape(l, l)\n",
    "b = a.copy()\n",
    "\n",
    "\n",
    "# NumPy built-in binary add\n",
    "start = time()\n",
    "print(np.add(a, b))\n",
    "end = time()\n",
    "print(\"numpy built-in binary add:\", end - start)\n",
    "\n",
    "# NumPy ufunc created from my_sum (ordinary Python function)\n",
    "def my_sum(x, y):\n",
    "    return x + y\n",
    "\n",
    "start = time()\n",
    "np_my_sum = np.frompyfunc(my_sum, 2, 1)\n",
    "print(np_my_sum(a, b))\n",
    "end = time()\n",
    "print(\"numpy ufunc frommyfunc\", end - start)\n",
    "\n",
    "# Numba ufunc lazy mode from my_sum (ordinary Python function)\n",
    "@vectorize \n",
    "def numba_lazy_sum(x, y):\n",
    "    return x + y\n",
    "start = time()\n",
    "print(numba_lazy_sum(a, b))\n",
    "end = time()\n",
    "print(\"numba ufunc lazy mode:\", end - start)\n",
    "\n",
    "# Numba ufunc with dtypes from my_sum (ordinary Python function)\n",
    "@vectorize(\n",
    "    [\n",
    "    int64(int64,int64), \n",
    "    float32(float32,float32), \n",
    "    float64(float64,float64)\n",
    "    ]\n",
    ")\n",
    "def numba_dtype_sum(x, y):\n",
    "    return x + y\n",
    "start = time()\n",
    "print(numba_dtype_sum(a, b))\n",
    "end = time()\n",
    "print(\"numba ufunc with dtypes:\", end - start)\n",
    "\n",
    "# Numba ufunc with dtypes and other \n",
    "# fancy vectorize arguments from sum (ordinary Python function)\n",
    "@vectorize(\n",
    "    [\n",
    "    int64(int64,int64), \n",
    "    float32(float32,float32), \n",
    "    float64(float64,float64)\n",
    "    ],\n",
    "    nopython=True,\n",
    "    cache=True,\n",
    "    fastmath=True,\n",
    ")\n",
    "def numba_dtype_opt_sum(x, y):\n",
    "    return x + y\n",
    "start = time()\n",
    "print(numba_dtype_opt_sum(a, b))\n",
    "end = time()\n",
    "print(\"numba ufunc with dtypes and other vectorize arguments:\", end - start)"
   ]
  },
  {
   "cell_type": "markdown",
   "id": "d80ca772",
   "metadata": {},
   "source": [
    "* Bu 4 ünün süreleri zaten çok yakın olmalı. Ama `Numpy ufunc frommyfunc` un süresi bunlarda oldukça fazla."
   ]
  },
  {
   "cell_type": "markdown",
   "id": "56e8abbe",
   "metadata": {},
   "source": [
    "# Custom Ufuncs\n",
    "\n",
    "* `np.fromyufunc()`"
   ]
  },
  {
   "cell_type": "markdown",
   "id": "6c813a74",
   "metadata": {},
   "source": []
  },
  {
   "cell_type": "code",
   "execution_count": null,
   "id": "4f14f5fb",
   "metadata": {},
   "outputs": [],
   "source": []
  }
 ],
 "metadata": {
  "kernelspec": {
   "display_name": "Python 3",
   "language": "python",
   "name": "python3"
  },
  "language_info": {
   "codemirror_mode": {
    "name": "ipython",
    "version": 3
   },
   "file_extension": ".py",
   "mimetype": "text/x-python",
   "name": "python",
   "nbconvert_exporter": "python",
   "pygments_lexer": "ipython3",
   "version": "3.12.11"
  }
 },
 "nbformat": 4,
 "nbformat_minor": 5
}

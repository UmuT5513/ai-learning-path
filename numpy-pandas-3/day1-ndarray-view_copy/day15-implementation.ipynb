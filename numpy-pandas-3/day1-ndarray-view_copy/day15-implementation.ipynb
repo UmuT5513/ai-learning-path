{
 "cells": [
  {
   "cell_type": "code",
   "execution_count": 1,
   "id": "1e447cab",
   "metadata": {},
   "outputs": [],
   "source": [
    "import numpy as np"
   ]
  },
  {
   "cell_type": "code",
   "execution_count": 54,
   "id": "c9e194bf",
   "metadata": {},
   "outputs": [
    {
     "data": {
      "text/plain": [
       "array([[ 0,  1,  2,  3],\n",
       "       [ 4,  5,  6,  7],\n",
       "       [ 8,  9, 10, 11],\n",
       "       [12, 13, 14, 15]])"
      ]
     },
     "execution_count": 54,
     "metadata": {},
     "output_type": "execute_result"
    }
   ],
   "source": [
    "arr = np.arange(16).reshape((4,4))\n",
    "arr"
   ]
  },
  {
   "cell_type": "markdown",
   "id": "383ebe3f",
   "metadata": {},
   "source": [
    "---"
   ]
  },
  {
   "cell_type": "markdown",
   "id": "46b80f16",
   "metadata": {},
   "source": [
    "* `arr.reshape((4,4))` aynı veriyi paylaşan yeni bir NumPy dizisi (view) oluşturur, ama bu farklı bir Python nesnesidir. Yani bellek blokları paylaşılsa da, obje kimlikleri farklıdır."
   ]
  },
  {
   "cell_type": "code",
   "execution_count": 55,
   "id": "8f0a73bb",
   "metadata": {},
   "outputs": [
    {
     "data": {
      "text/plain": [
       "array([ 0,  1,  2,  3,  4,  5,  6,  7,  8,  9, 10, 11, 12, 13, 14, 15])"
      ]
     },
     "execution_count": 55,
     "metadata": {},
     "output_type": "execute_result"
    }
   ],
   "source": [
    "flat1 = arr.reshape(-1)\n",
    "flat1"
   ]
  },
  {
   "cell_type": "markdown",
   "id": "2a5b585f",
   "metadata": {},
   "source": [
    "Not: `is` operatörü iki değişkenin tam olarak aynı Python nesnesine işaret edip etmediğini kontrol eder."
   ]
  },
  {
   "cell_type": "code",
   "execution_count": 92,
   "id": "120c5d38",
   "metadata": {},
   "outputs": [
    {
     "name": "stdout",
     "output_type": "stream",
     "text": [
      "False\n",
      "False\n"
     ]
    }
   ],
   "source": [
    "print(flat1.base is arr) #False --> flat1 ile arr aynı veriye bakıyor. flat1 veriyi arr'ın belleğinden okuyor.\n",
    "print(flat1 is arr) #False"
   ]
  },
  {
   "cell_type": "markdown",
   "id": "d3e0ab60",
   "metadata": {},
   "source": [
    "* `flat1.base` ifadesi **flat1** in veriyi başka hangi nesneden aldığı bilgisini tutar. (`arr` değil. `np.arange(16)`nın kendisi)\n",
    "* `flat1.base is arr` ifadesi **True** döndürmez. `flat1 is arr` ifadesi hiç döndürmez. Ama `flat1.base is np.arange(16)` nın sonucu **True** olur.\n",
    "\n",
    "* Bu `np.shares_memory()`ile de kontrol edilebilir. "
   ]
  },
  {
   "cell_type": "code",
   "execution_count": 57,
   "id": "35f29404",
   "metadata": {},
   "outputs": [
    {
     "name": "stdout",
     "output_type": "stream",
     "text": [
      "True\n"
     ]
    }
   ],
   "source": [
    "print(np.shares_memory(arr, flat1))"
   ]
  },
  {
   "cell_type": "markdown",
   "id": "8bbd3b19",
   "metadata": {},
   "source": [
    "* Fakat ne garip ki `shares_memory()` **True** döndürür. Neden?\n",
    "* `shares_memory`verilen iki veri nesnesinin memory yoluna bakar eğer çakışıyorsa **True** döndürür. \n",
    "* Biraz görselleştirelim: \n",
    "\n",
    "`arr` | `np.arange(16) -> np.arange(16).reshape((4,4))` iken, \n",
    "\n",
    "`flat1` | `np.arange(16) -> np.arange(16).reshape((4,4)) -> np.reshape(-1)` dir. \n",
    "\n",
    "***Tüm bu işlemler *view* kapsamına girer.***"
   ]
  },
  {
   "cell_type": "markdown",
   "id": "40eb0eb2",
   "metadata": {},
   "source": [
    "---"
   ]
  },
  {
   "cell_type": "code",
   "execution_count": 64,
   "id": "bd15a6a3",
   "metadata": {},
   "outputs": [
    {
     "data": {
      "text/plain": [
       "array([ 0,  1,  2,  3,  4,  5,  6,  7,  8,  9, 10, 11, 12, 13, 14, 15])"
      ]
     },
     "execution_count": 64,
     "metadata": {},
     "output_type": "execute_result"
    }
   ],
   "source": [
    "flat2 = arr.ravel()\n",
    "flat2"
   ]
  },
  {
   "cell_type": "code",
   "execution_count": 61,
   "id": "868a5f8d",
   "metadata": {},
   "outputs": [
    {
     "data": {
      "text/plain": [
       "False"
      ]
     },
     "execution_count": 61,
     "metadata": {},
     "output_type": "execute_result"
    }
   ],
   "source": [
    "flat2.base is arr"
   ]
  },
  {
   "cell_type": "markdown",
   "id": "ba79e0fc",
   "metadata": {},
   "source": [
    "* `ravel()` de `reshape()` gibi aynı veriye farklı obje ile işaret ediyor."
   ]
  },
  {
   "cell_type": "code",
   "execution_count": 62,
   "id": "ddfa4241",
   "metadata": {},
   "outputs": [
    {
     "name": "stdout",
     "output_type": "stream",
     "text": [
      "True\n"
     ]
    }
   ],
   "source": [
    "print(np.shares_memory(arr, flat2))"
   ]
  },
  {
   "cell_type": "markdown",
   "id": "af08b696",
   "metadata": {},
   "source": [
    "****özet****"
   ]
  },
  {
   "cell_type": "code",
   "execution_count": 70,
   "id": "30612ade",
   "metadata": {},
   "outputs": [],
   "source": [
    "import numpy as np\n",
    "\n",
    "# 1) Orijinal veri bloğunu yaratan dizi\n",
    "base0 = np.arange(16)           # gerçek “owner”\n",
    "\n",
    "# 2) base0’dan türetilmiş bir view\n",
    "arr = base0.reshape((4,4))      # arr.base is base0 → True\n",
    "\n",
    "# 3) arr’dan reshape ile tek boyuta indirdin\n",
    "flat1 = arr.reshape(-1)\n",
    "# flat1.base is base0 → True \n",
    "# flat1.base is arr   → False  (çünkü arr zaten base0’dan gelen bir view idi)\n",
    "\n",
    "# 4) arr’dan ravel ile tek boyuta indirdin\n",
    "flat2 = arr.ravel()\n",
    "# flat2.base is base0 → True\n",
    "# flat2.base is arr   → False"
   ]
  },
  {
   "cell_type": "markdown",
   "id": "25c02a46",
   "metadata": {},
   "source": [
    "---"
   ]
  },
  {
   "cell_type": "code",
   "execution_count": 66,
   "id": "daa1fc5c",
   "metadata": {},
   "outputs": [
    {
     "data": {
      "text/plain": [
       "array([[ 0,  1,  2,  3],\n",
       "       [ 4,  5,  6,  7],\n",
       "       [ 8,  9, 10, 11],\n",
       "       [12, 13, 14, 15]])"
      ]
     },
     "execution_count": 66,
     "metadata": {},
     "output_type": "execute_result"
    }
   ],
   "source": [
    "arr"
   ]
  },
  {
   "cell_type": "code",
   "execution_count": 67,
   "id": "afa80fb7",
   "metadata": {},
   "outputs": [
    {
     "data": {
      "text/plain": [
       "array([ 0,  1,  2,  3,  4,  5,  6,  7,  8,  9, 10, 11, 12, 13, 14, 15])"
      ]
     },
     "execution_count": 67,
     "metadata": {},
     "output_type": "execute_result"
    }
   ],
   "source": [
    "flat3 = arr.flatten()\n",
    "flat3"
   ]
  },
  {
   "cell_type": "code",
   "execution_count": 78,
   "id": "f1a2f5f6",
   "metadata": {},
   "outputs": [
    {
     "name": "stdout",
     "output_type": "stream",
     "text": [
      "None\n",
      "False\n",
      "False\n"
     ]
    }
   ],
   "source": [
    "print(flat3.base)           # -> None olmalı\n",
    "print(flat3.base is arr)    # -> False olmalı\n",
    "print(np.shares_memory(arr, flat3))  # -> False"
   ]
  },
  {
   "cell_type": "markdown",
   "id": "2b38a62c",
   "metadata": {},
   "source": [
    "---"
   ]
  },
  {
   "cell_type": "markdown",
   "id": "2c4f4132",
   "metadata": {},
   "source": [
    "* `base0 = np.arange(16)`\n",
    "\n",
    "* `arr` **base0** ın `reshape((4,4))` uygulanmış hali\n",
    "\n",
    "* `view1` **base0** ın `view()` uygulanmış hali\n",
    "\n",
    "* `view1` kendi içinde bir kaç **shape** değişikliğine uğruyor.\n",
    "\n",
    "* `view2` **view1** ın `reshape((4,4))` uygulanmış hali"
   ]
  },
  {
   "cell_type": "code",
   "execution_count": 129,
   "id": "e2bae89a",
   "metadata": {},
   "outputs": [
    {
     "name": "stdout",
     "output_type": "stream",
     "text": [
      "True\n"
     ]
    }
   ],
   "source": [
    "base0 = np.arange(16)\n",
    "arr = base0.reshape((4,4))\n",
    "print(arr.base is base0)"
   ]
  },
  {
   "cell_type": "code",
   "execution_count": 102,
   "id": "b6829297",
   "metadata": {},
   "outputs": [
    {
     "data": {
      "text/plain": [
       "array([ 0,  1,  2,  3,  4,  5,  6,  7,  8,  9, 10, 11, 12, 13, 14, 15])"
      ]
     },
     "execution_count": 102,
     "metadata": {},
     "output_type": "execute_result"
    }
   ],
   "source": [
    "view1 = base0.view()\n",
    "view1"
   ]
  },
  {
   "cell_type": "code",
   "execution_count": 121,
   "id": "93bb7ff4",
   "metadata": {},
   "outputs": [
    {
     "name": "stdout",
     "output_type": "stream",
     "text": [
      "False\n",
      "False\n"
     ]
    }
   ],
   "source": [
    "print(view1.base is arr) #false\n",
    "print(arr.base is view1) #false"
   ]
  },
  {
   "cell_type": "code",
   "execution_count": 95,
   "id": "2dbaad4c",
   "metadata": {},
   "outputs": [
    {
     "data": {
      "text/plain": [
       "True"
      ]
     },
     "execution_count": 95,
     "metadata": {},
     "output_type": "execute_result"
    }
   ],
   "source": [
    "np.shares_memory(arr, view1) #ortak bir yerde memoryler kesişiyor (np.arange(16))"
   ]
  },
  {
   "cell_type": "code",
   "execution_count": 97,
   "id": "13cd97b8",
   "metadata": {},
   "outputs": [
    {
     "name": "stdout",
     "output_type": "stream",
     "text": [
      "False\n",
      "False\n",
      "True\n",
      "False\n"
     ]
    }
   ],
   "source": [
    "print(view1.base is arr)\n",
    "print(view1 is arr)\n",
    "print(view1.base is base0)\n",
    "print(view1 is base0)"
   ]
  },
  {
   "cell_type": "code",
   "execution_count": null,
   "id": "1874f204",
   "metadata": {},
   "outputs": [
    {
     "data": {
      "text/plain": [
       "array([[ 0,  1,  2,  3,  4,  5,  6,  7],\n",
       "       [ 8,  9, 10, 11, 12, 13, 14, 15]])"
      ]
     },
     "execution_count": 99,
     "metadata": {},
     "output_type": "execute_result"
    }
   ],
   "source": [
    "view1.shape = (2,8) #(16,) -> (2,8)\n",
    "view1"
   ]
  },
  {
   "cell_type": "code",
   "execution_count": null,
   "id": "e8e2460e",
   "metadata": {},
   "outputs": [
    {
     "name": "stdout",
     "output_type": "stream",
     "text": [
      "True\n"
     ]
    }
   ],
   "source": [
    "print(view1.base is base0) # True -> base0'dan türetilmiş"
   ]
  },
  {
   "cell_type": "code",
   "execution_count": null,
   "id": "563baa1a",
   "metadata": {},
   "outputs": [
    {
     "data": {
      "text/plain": [
       "array([ 0,  1,  2,  3,  4,  5,  6,  7,  8,  9, 10, 11, 12, 13, 14, 15])"
      ]
     },
     "execution_count": 104,
     "metadata": {},
     "output_type": "execute_result"
    }
   ],
   "source": [
    "view1.shape = (16,) # (2,8) -> (16,)\n",
    "view1"
   ]
  },
  {
   "cell_type": "code",
   "execution_count": null,
   "id": "f9eef242",
   "metadata": {},
   "outputs": [
    {
     "name": "stdout",
     "output_type": "stream",
     "text": [
      "True\n"
     ]
    }
   ],
   "source": [
    "print(view1.base is base0) #True -> eski haline döndürdüm."
   ]
  },
  {
   "cell_type": "code",
   "execution_count": 110,
   "id": "0ee031c9",
   "metadata": {},
   "outputs": [],
   "source": [
    "view2 = view1.reshape((4,4))"
   ]
  },
  {
   "cell_type": "code",
   "execution_count": 122,
   "id": "311f920e",
   "metadata": {},
   "outputs": [
    {
     "name": "stdout",
     "output_type": "stream",
     "text": [
      "False\n",
      "True\n"
     ]
    }
   ],
   "source": [
    "print(view2.base is view1) # false -> doğrusu: base0\n",
    "print(np.shares_memory(view2, view1)) # true -> farklı nesne olsalarda aynı memory den okurlar."
   ]
  },
  {
   "cell_type": "markdown",
   "id": "7eb5368e",
   "metadata": {},
   "source": [
    "---"
   ]
  },
  {
   "cell_type": "code",
   "execution_count": 136,
   "id": "38fac4ba",
   "metadata": {},
   "outputs": [
    {
     "name": "stdout",
     "output_type": "stream",
     "text": [
      "True\n"
     ]
    }
   ],
   "source": [
    "base0 = np.arange(16)\n",
    "arr = base0.reshape((4,4))\n",
    "print(arr.base is base0)"
   ]
  },
  {
   "cell_type": "code",
   "execution_count": 137,
   "id": "864c8914",
   "metadata": {},
   "outputs": [
    {
     "data": {
      "text/plain": [
       "array([[ 0,  1,  2,  3],\n",
       "       [ 4,  5,  6,  7],\n",
       "       [ 8,  9, 10, 11],\n",
       "       [12, 13, 14, 15]])"
      ]
     },
     "execution_count": 137,
     "metadata": {},
     "output_type": "execute_result"
    }
   ],
   "source": [
    "tmp = arr.reshape(2,8).reshape(8,2).reshape(4,4)\n",
    "tmp"
   ]
  },
  {
   "cell_type": "markdown",
   "id": "780ce4ec",
   "metadata": {},
   "source": [
    "* Burada her **reshape** bir **view** yaratıyor, ama `.base` en dipteki esas veri sahibi olan **base0’ı** gösterir."
   ]
  },
  {
   "cell_type": "code",
   "execution_count": 140,
   "id": "dbffd9c5",
   "metadata": {},
   "outputs": [
    {
     "name": "stdout",
     "output_type": "stream",
     "text": [
      "True\n",
      "True\n",
      "True\n"
     ]
    }
   ],
   "source": [
    "print(arr.base is base0) #true\n",
    "print(tmp.base is base0) #true\n",
    "print(tmp.base is arr.base) #true"
   ]
  },
  {
   "cell_type": "markdown",
   "id": "dd8deea0",
   "metadata": {},
   "source": [
    "---"
   ]
  },
  {
   "cell_type": "markdown",
   "id": "4d12a82b",
   "metadata": {},
   "source": [
    "****`flat1,flat2,flat3,view1,tmp` değişkenlerin tuttuğu arrayler üzerinde değişiklirler yapacağız. hangisinin değişikliği `arr`'a yansıyacak göreceğiz.****\n",
    "\n",
    "* **base0** *=* **np.arange(16)**\n",
    "\n",
    "* **arr** *=* **base0.reshape((4,4))**"
   ]
  },
  {
   "cell_type": "code",
   "execution_count": 160,
   "id": "51999b60",
   "metadata": {},
   "outputs": [
    {
     "name": "stdout",
     "output_type": "stream",
     "text": [
      "[[ 0  1  2  3]\n",
      " [ 4  5  6  7]\n",
      " [ 8  9 10 11]\n",
      " [12 13 14 15]]\n",
      "[[100   1   2   3]\n",
      " [  4   5   6   7]\n",
      " [  8   9  10  11]\n",
      " [ 12  13  14  15]]\n"
     ]
    }
   ],
   "source": [
    "base0 = np.arange(16)\n",
    "arr = base0.reshape((4,4))\n",
    "flat1 = arr.reshape(-1)\n",
    "print(arr)\n",
    "flat1[0] = 100\n",
    "print(arr)"
   ]
  },
  {
   "cell_type": "code",
   "execution_count": 161,
   "id": "b4890a60",
   "metadata": {},
   "outputs": [
    {
     "name": "stdout",
     "output_type": "stream",
     "text": [
      "[[ 0  1  2  3]\n",
      " [ 4  5  6  7]\n",
      " [ 8  9 10 11]\n",
      " [12 13 14 15]]\n",
      "[[100   1   2   3]\n",
      " [  4   5   6   7]\n",
      " [  8   9  10  11]\n",
      " [ 12  13  14  15]]\n"
     ]
    }
   ],
   "source": [
    "base0 = np.arange(16)\n",
    "arr = base0.reshape((4,4))\n",
    "flat2 = arr.ravel()\n",
    "print(arr)\n",
    "flat2[0] = 100\n",
    "print(arr)"
   ]
  },
  {
   "cell_type": "code",
   "execution_count": 163,
   "id": "07742ad9",
   "metadata": {},
   "outputs": [
    {
     "name": "stdout",
     "output_type": "stream",
     "text": [
      "[[ 0  1  2  3]\n",
      " [ 4  5  6  7]\n",
      " [ 8  9 10 11]\n",
      " [12 13 14 15]]\n",
      "[[ 0  1  2  3]\n",
      " [ 4  5  6  7]\n",
      " [ 8  9 10 11]\n",
      " [12 13 14 15]]\n"
     ]
    }
   ],
   "source": [
    "base0 = np.arange(16)\n",
    "arr = base0.reshape((4,4))\n",
    "flat3 = arr.flatten()\n",
    "print(arr)\n",
    "flat3[0] = 100\n",
    "print(arr)"
   ]
  },
  {
   "cell_type": "markdown",
   "id": "4704a45a",
   "metadata": {},
   "source": [
    "* ****`flatten()` **view** değil **copy** döner.****"
   ]
  },
  {
   "cell_type": "code",
   "execution_count": 159,
   "id": "c1d066fa",
   "metadata": {},
   "outputs": [
    {
     "name": "stdout",
     "output_type": "stream",
     "text": [
      "[[ 0  1  2  3]\n",
      " [ 4  5  6  7]\n",
      " [ 8  9 10 11]\n",
      " [12 13 14 15]]\n",
      "[[100   1   2   3]\n",
      " [  4   5   6   7]\n",
      " [  8   9  10  11]\n",
      " [ 12  13  14  15]]\n"
     ]
    }
   ],
   "source": [
    "base0 = np.arange(16)\n",
    "arr = base0.reshape((4,4))\n",
    "tmp = arr.reshape(2,8).reshape(8,2).reshape(4,4)\n",
    "print(arr)\n",
    "tmp[0][0] = 100\n",
    "print(arr)"
   ]
  },
  {
   "cell_type": "code",
   "execution_count": 164,
   "id": "7324a5e5",
   "metadata": {},
   "outputs": [
    {
     "name": "stdout",
     "output_type": "stream",
     "text": [
      "[[ 0  1  2  3]\n",
      " [ 4  5  6  7]\n",
      " [ 8  9 10 11]\n",
      " [12 13 14 15]]\n",
      "[[100   1   2   3]\n",
      " [  4   5   6   7]\n",
      " [  8   9  10  11]\n",
      " [ 12  13  14  15]]\n"
     ]
    }
   ],
   "source": [
    "base0 = np.arange(16)\n",
    "arr = base0.reshape((4,4))\n",
    "view1 = base0.view()\n",
    "print(arr)\n",
    "view1[0] = 100\n",
    "print(arr)"
   ]
  }
 ],
 "metadata": {
  "kernelspec": {
   "display_name": "ai",
   "language": "python",
   "name": "python3"
  },
  "language_info": {
   "codemirror_mode": {
    "name": "ipython",
    "version": 3
   },
   "file_extension": ".py",
   "mimetype": "text/x-python",
   "name": "python",
   "nbconvert_exporter": "python",
   "pygments_lexer": "ipython3",
   "version": "3.12.11"
  }
 },
 "nbformat": 4,
 "nbformat_minor": 5
}

{
 "cells": [
  {
   "cell_type": "code",
   "execution_count": 19,
   "id": "ac4acd00",
   "metadata": {},
   "outputs": [
    {
     "data": {
      "text/plain": [
       "(array([-1.        , -0.98994975, -0.9798995 , -0.96984925, -0.95979899,\n",
       "        -0.94974874, -0.93969849, -0.92964824, -0.91959799, -0.90954774,\n",
       "        -0.89949749, -0.88944724, -0.87939698, -0.86934673, -0.85929648,\n",
       "        -0.84924623, -0.83919598, -0.82914573, -0.81909548, -0.80904523,\n",
       "        -0.79899497, -0.78894472, -0.77889447, -0.76884422, -0.75879397,\n",
       "        -0.74874372, -0.73869347, -0.72864322, -0.71859296, -0.70854271,\n",
       "        -0.69849246, -0.68844221, -0.67839196, -0.66834171, -0.65829146,\n",
       "        -0.64824121, -0.63819095, -0.6281407 , -0.61809045, -0.6080402 ,\n",
       "        -0.59798995, -0.5879397 , -0.57788945, -0.5678392 , -0.55778894,\n",
       "        -0.54773869, -0.53768844, -0.52763819, -0.51758794, -0.50753769,\n",
       "        -0.49748744, -0.48743719, -0.47738693, -0.46733668, -0.45728643,\n",
       "        -0.44723618, -0.43718593, -0.42713568, -0.41708543, -0.40703518,\n",
       "        -0.39698492, -0.38693467, -0.37688442, -0.36683417, -0.35678392,\n",
       "        -0.34673367, -0.33668342, -0.32663317, -0.31658291, -0.30653266,\n",
       "        -0.29648241, -0.28643216, -0.27638191, -0.26633166, -0.25628141,\n",
       "        -0.24623116, -0.2361809 , -0.22613065, -0.2160804 , -0.20603015,\n",
       "        -0.1959799 , -0.18592965, -0.1758794 , -0.16582915, -0.15577889,\n",
       "        -0.14572864, -0.13567839, -0.12562814, -0.11557789, -0.10552764,\n",
       "        -0.09547739, -0.08542714, -0.07537688, -0.06532663, -0.05527638,\n",
       "        -0.04522613, -0.03517588, -0.02512563, -0.01507538, -0.00502513,\n",
       "         0.00502513,  0.01507538,  0.02512563,  0.03517588,  0.04522613,\n",
       "         0.05527638,  0.06532663,  0.07537688,  0.08542714,  0.09547739,\n",
       "         0.10552764,  0.11557789,  0.12562814,  0.13567839,  0.14572864,\n",
       "         0.15577889,  0.16582915,  0.1758794 ,  0.18592965,  0.1959799 ,\n",
       "         0.20603015,  0.2160804 ,  0.22613065,  0.2361809 ,  0.24623116,\n",
       "         0.25628141,  0.26633166,  0.27638191,  0.28643216,  0.29648241,\n",
       "         0.30653266,  0.31658291,  0.32663317,  0.33668342,  0.34673367,\n",
       "         0.35678392,  0.36683417,  0.37688442,  0.38693467,  0.39698492,\n",
       "         0.40703518,  0.41708543,  0.42713568,  0.43718593,  0.44723618,\n",
       "         0.45728643,  0.46733668,  0.47738693,  0.48743719,  0.49748744,\n",
       "         0.50753769,  0.51758794,  0.52763819,  0.53768844,  0.54773869,\n",
       "         0.55778894,  0.5678392 ,  0.57788945,  0.5879397 ,  0.59798995,\n",
       "         0.6080402 ,  0.61809045,  0.6281407 ,  0.63819095,  0.64824121,\n",
       "         0.65829146,  0.66834171,  0.67839196,  0.68844221,  0.69849246,\n",
       "         0.70854271,  0.71859296,  0.72864322,  0.73869347,  0.74874372,\n",
       "         0.75879397,  0.76884422,  0.77889447,  0.78894472,  0.79899497,\n",
       "         0.80904523,  0.81909548,  0.82914573,  0.83919598,  0.84924623,\n",
       "         0.85929648,  0.86934673,  0.87939698,  0.88944724,  0.89949749,\n",
       "         0.90954774,  0.91959799,  0.92964824,  0.93969849,  0.94974874,\n",
       "         0.95979899,  0.96984925,  0.9798995 ,  0.98994975,  1.        ]),\n",
       " array([-1.        , -0.98994975, -0.9798995 , -0.96984925, -0.95979899,\n",
       "        -0.94974874, -0.93969849, -0.92964824, -0.91959799, -0.90954774,\n",
       "        -0.89949749, -0.88944724, -0.87939698, -0.86934673, -0.85929648,\n",
       "        -0.84924623, -0.83919598, -0.82914573, -0.81909548, -0.80904523,\n",
       "        -0.79899497, -0.78894472, -0.77889447, -0.76884422, -0.75879397,\n",
       "        -0.74874372, -0.73869347, -0.72864322, -0.71859296, -0.70854271,\n",
       "        -0.69849246, -0.68844221, -0.67839196, -0.66834171, -0.65829146,\n",
       "        -0.64824121, -0.63819095, -0.6281407 , -0.61809045, -0.6080402 ,\n",
       "        -0.59798995, -0.5879397 , -0.57788945, -0.5678392 , -0.55778894,\n",
       "        -0.54773869, -0.53768844, -0.52763819, -0.51758794, -0.50753769,\n",
       "        -0.49748744, -0.48743719, -0.47738693, -0.46733668, -0.45728643,\n",
       "        -0.44723618, -0.43718593, -0.42713568, -0.41708543, -0.40703518,\n",
       "        -0.39698492, -0.38693467, -0.37688442, -0.36683417, -0.35678392,\n",
       "        -0.34673367, -0.33668342, -0.32663317, -0.31658291, -0.30653266,\n",
       "        -0.29648241, -0.28643216, -0.27638191, -0.26633166, -0.25628141,\n",
       "        -0.24623116, -0.2361809 , -0.22613065, -0.2160804 , -0.20603015,\n",
       "        -0.1959799 , -0.18592965, -0.1758794 , -0.16582915, -0.15577889,\n",
       "        -0.14572864, -0.13567839, -0.12562814, -0.11557789, -0.10552764,\n",
       "        -0.09547739, -0.08542714, -0.07537688, -0.06532663, -0.05527638,\n",
       "        -0.04522613, -0.03517588, -0.02512563, -0.01507538, -0.00502513,\n",
       "         0.00502513,  0.01507538,  0.02512563,  0.03517588,  0.04522613,\n",
       "         0.05527638,  0.06532663,  0.07537688,  0.08542714,  0.09547739,\n",
       "         0.10552764,  0.11557789,  0.12562814,  0.13567839,  0.14572864,\n",
       "         0.15577889,  0.16582915,  0.1758794 ,  0.18592965,  0.1959799 ,\n",
       "         0.20603015,  0.2160804 ,  0.22613065,  0.2361809 ,  0.24623116,\n",
       "         0.25628141,  0.26633166,  0.27638191,  0.28643216,  0.29648241,\n",
       "         0.30653266,  0.31658291,  0.32663317,  0.33668342,  0.34673367,\n",
       "         0.35678392,  0.36683417,  0.37688442,  0.38693467,  0.39698492,\n",
       "         0.40703518,  0.41708543,  0.42713568,  0.43718593,  0.44723618,\n",
       "         0.45728643,  0.46733668,  0.47738693,  0.48743719,  0.49748744,\n",
       "         0.50753769,  0.51758794,  0.52763819,  0.53768844,  0.54773869,\n",
       "         0.55778894,  0.5678392 ,  0.57788945,  0.5879397 ,  0.59798995,\n",
       "         0.6080402 ,  0.61809045,  0.6281407 ,  0.63819095,  0.64824121,\n",
       "         0.65829146,  0.66834171,  0.67839196,  0.68844221,  0.69849246,\n",
       "         0.70854271,  0.71859296,  0.72864322,  0.73869347,  0.74874372,\n",
       "         0.75879397,  0.76884422,  0.77889447,  0.78894472,  0.79899497,\n",
       "         0.80904523,  0.81909548,  0.82914573,  0.83919598,  0.84924623,\n",
       "         0.85929648,  0.86934673,  0.87939698,  0.88944724,  0.89949749,\n",
       "         0.90954774,  0.91959799,  0.92964824,  0.93969849,  0.94974874,\n",
       "         0.95979899,  0.96984925,  0.9798995 ,  0.98994975,  1.        ]))"
      ]
     },
     "execution_count": 19,
     "metadata": {},
     "output_type": "execute_result"
    }
   ],
   "source": [
    "import numpy as np\n",
    "\n",
    "N=200\n",
    "x = np.linspace(-1,1,N)\n",
    "y = np.linspace(-1,1,N)\n",
    "x,y"
   ]
  },
  {
   "cell_type": "code",
   "execution_count": 20,
   "id": "cb578601",
   "metadata": {},
   "outputs": [
    {
     "data": {
      "text/plain": [
       "((200, 200), (200, 200))"
      ]
     },
     "execution_count": 20,
     "metadata": {},
     "output_type": "execute_result"
    }
   ],
   "source": [
    "X, Y = np.meshgrid(x, y)\n",
    "X.shape, Y.shape"
   ]
  },
  {
   "cell_type": "code",
   "execution_count": 25,
   "id": "c7d046d1",
   "metadata": {},
   "outputs": [
    {
     "data": {
      "text/plain": [
       "(200, 200)"
      ]
     },
     "execution_count": 25,
     "metadata": {},
     "output_type": "execute_result"
    }
   ],
   "source": [
    "R = np.sqrt(X**2 + Y**2) # her pixelin merkezden uzaklığı\n",
    "\n",
    "r=0.5\n",
    "mask = R<=r\n",
    "M = np.where(mask, 1, 0) # pixeller yariçap dan küçükse 1 büyükse 0.\n",
    "M.shape\n",
    "\n"
   ]
  },
  {
   "cell_type": "markdown",
   "id": "20afa42a",
   "metadata": {},
   "source": [
    "## tek kanallı grayscale gösterim"
   ]
  },
  {
   "cell_type": "code",
   "execution_count": 23,
   "id": "0c629301",
   "metadata": {},
   "outputs": [
    {
     "data": {
      "image/png": "[encoded data removed]",
      "text/plain": [
       "<Figure size 500x500 with 1 Axes>"
      ]
     },
     "metadata": {},
     "output_type": "display_data"
    }
   ],
   "source": [
    "import matplotlib.pyplot as plt\n",
    "\n",
    "plt.figure(figsize=(5,5))\n",
    "plt.imshow(M, extent=(-1,1,-1,1), cmap='gray')\n",
    "plt.axis('off')\n",
    "plt.show()\n",
    "\n"
   ]
  },
  {
   "cell_type": "markdown",
   "id": "0069ae10",
   "metadata": {},
   "source": [
    "## RGB ye broadcast edip renkli gösterim"
   ]
  },
  {
   "cell_type": "code",
   "execution_count": 29,
   "id": "aff34270",
   "metadata": {},
   "outputs": [
    {
     "ename": "ValueError",
     "evalue": "operands could not be broadcast together with remapped shapes [original->remapped]: (200,200)  and requested shape (200,200,3)",
     "output_type": "error",
     "traceback": [
      "\u001b[31m---------------------------------------------------------------------------\u001b[39m",
      "\u001b[31mValueError\u001b[39m                                Traceback (most recent call last)",
      "\u001b[36mCell\u001b[39m\u001b[36m \u001b[39m\u001b[32mIn[29]\u001b[39m\u001b[32m, line 2\u001b[39m\n\u001b[32m      1\u001b[39m \u001b[38;5;66;03m# RGB’e genişlet\u001b[39;00m\n\u001b[32m----> \u001b[39m\u001b[32m2\u001b[39m M = \u001b[43mnp\u001b[49m\u001b[43m.\u001b[49m\u001b[43mbroadcast_to\u001b[49m\u001b[43m(\u001b[49m\u001b[43mM\u001b[49m\u001b[43m,\u001b[49m\u001b[43m \u001b[49m\u001b[43m(\u001b[49m\u001b[32;43m200\u001b[39;49m\u001b[43m,\u001b[49m\u001b[32;43m200\u001b[39;49m\u001b[43m,\u001b[49m\u001b[43m \u001b[49m\u001b[32;43m3\u001b[39;49m\u001b[43m)\u001b[49m\u001b[43m)\u001b[49m\n\u001b[32m      4\u001b[39m plt.figure(figsize=(\u001b[32m5\u001b[39m,\u001b[32m5\u001b[39m))\n\u001b[32m      5\u001b[39m plt.imshow(M, extent=(-\u001b[32m1\u001b[39m,\u001b[32m1\u001b[39m,-\u001b[32m1\u001b[39m,\u001b[32m1\u001b[39m))\n",
      "\u001b[36mFile \u001b[39m\u001b[32mc:\\Users\\Umut\\.conda\\envs\\ai\\Lib\\site-packages\\numpy\\lib\\_stride_tricks_impl.py:410\u001b[39m, in \u001b[36mbroadcast_to\u001b[39m\u001b[34m(array, shape, subok)\u001b[39m\n\u001b[32m    367\u001b[39m \u001b[38;5;129m@array_function_dispatch\u001b[39m(_broadcast_to_dispatcher, module=\u001b[33m'\u001b[39m\u001b[33mnumpy\u001b[39m\u001b[33m'\u001b[39m)\n\u001b[32m    368\u001b[39m \u001b[38;5;28;01mdef\u001b[39;00m\u001b[38;5;250m \u001b[39m\u001b[34mbroadcast_to\u001b[39m(array, shape, subok=\u001b[38;5;28;01mFalse\u001b[39;00m):\n\u001b[32m    369\u001b[39m \u001b[38;5;250m    \u001b[39m\u001b[33;03m\"\"\"Broadcast an array to a new shape.\u001b[39;00m\n\u001b[32m    370\u001b[39m \n\u001b[32m    371\u001b[39m \u001b[33;03m    Parameters\u001b[39;00m\n\u001b[32m   (...)\u001b[39m\u001b[32m    408\u001b[39m \u001b[33;03m           [1, 2, 3]])\u001b[39;00m\n\u001b[32m    409\u001b[39m \u001b[33;03m    \"\"\"\u001b[39;00m\n\u001b[32m--> \u001b[39m\u001b[32m410\u001b[39m     \u001b[38;5;28;01mreturn\u001b[39;00m \u001b[43m_broadcast_to\u001b[49m\u001b[43m(\u001b[49m\u001b[43marray\u001b[49m\u001b[43m,\u001b[49m\u001b[43m \u001b[49m\u001b[43mshape\u001b[49m\u001b[43m,\u001b[49m\u001b[43m \u001b[49m\u001b[43msubok\u001b[49m\u001b[43m=\u001b[49m\u001b[43msubok\u001b[49m\u001b[43m,\u001b[49m\u001b[43m \u001b[49m\u001b[43mreadonly\u001b[49m\u001b[43m=\u001b[49m\u001b[38;5;28;43;01mTrue\u001b[39;49;00m\u001b[43m)\u001b[49m\n",
      "\u001b[36mFile \u001b[39m\u001b[32mc:\\Users\\Umut\\.conda\\envs\\ai\\Lib\\site-packages\\numpy\\lib\\_stride_tricks_impl.py:349\u001b[39m, in \u001b[36m_broadcast_to\u001b[39m\u001b[34m(array, shape, subok, readonly)\u001b[39m\n\u001b[32m    346\u001b[39m     \u001b[38;5;28;01mraise\u001b[39;00m \u001b[38;5;167;01mValueError\u001b[39;00m(\u001b[33m'\u001b[39m\u001b[33mall elements of broadcast shape must be non-\u001b[39m\u001b[33m'\u001b[39m\n\u001b[32m    347\u001b[39m                      \u001b[33m'\u001b[39m\u001b[33mnegative\u001b[39m\u001b[33m'\u001b[39m)\n\u001b[32m    348\u001b[39m extras = []\n\u001b[32m--> \u001b[39m\u001b[32m349\u001b[39m it = \u001b[43mnp\u001b[49m\u001b[43m.\u001b[49m\u001b[43mnditer\u001b[49m\u001b[43m(\u001b[49m\n\u001b[32m    350\u001b[39m \u001b[43m    \u001b[49m\u001b[43m(\u001b[49m\u001b[43marray\u001b[49m\u001b[43m,\u001b[49m\u001b[43m)\u001b[49m\u001b[43m,\u001b[49m\u001b[43m \u001b[49m\u001b[43mflags\u001b[49m\u001b[43m=\u001b[49m\u001b[43m[\u001b[49m\u001b[33;43m'\u001b[39;49m\u001b[33;43mmulti_index\u001b[39;49m\u001b[33;43m'\u001b[39;49m\u001b[43m,\u001b[49m\u001b[43m \u001b[49m\u001b[33;43m'\u001b[39;49m\u001b[33;43mrefs_ok\u001b[39;49m\u001b[33;43m'\u001b[39;49m\u001b[43m,\u001b[49m\u001b[43m \u001b[49m\u001b[33;43m'\u001b[39;49m\u001b[33;43mzerosize_ok\u001b[39;49m\u001b[33;43m'\u001b[39;49m\u001b[43m]\u001b[49m\u001b[43m \u001b[49m\u001b[43m+\u001b[49m\u001b[43m \u001b[49m\u001b[43mextras\u001b[49m\u001b[43m,\u001b[49m\n\u001b[32m    351\u001b[39m \u001b[43m    \u001b[49m\u001b[43mop_flags\u001b[49m\u001b[43m=\u001b[49m\u001b[43m[\u001b[49m\u001b[33;43m'\u001b[39;49m\u001b[33;43mreadonly\u001b[39;49m\u001b[33;43m'\u001b[39;49m\u001b[43m]\u001b[49m\u001b[43m,\u001b[49m\u001b[43m \u001b[49m\u001b[43mitershape\u001b[49m\u001b[43m=\u001b[49m\u001b[43mshape\u001b[49m\u001b[43m,\u001b[49m\u001b[43m \u001b[49m\u001b[43morder\u001b[49m\u001b[43m=\u001b[49m\u001b[33;43m'\u001b[39;49m\u001b[33;43mC\u001b[39;49m\u001b[33;43m'\u001b[39;49m\u001b[43m)\u001b[49m\n\u001b[32m    352\u001b[39m \u001b[38;5;28;01mwith\u001b[39;00m it:\n\u001b[32m    353\u001b[39m     \u001b[38;5;66;03m# never really has writebackifcopy semantics\u001b[39;00m\n\u001b[32m    354\u001b[39m     broadcast = it.itviews[\u001b[32m0\u001b[39m]\n",
      "\u001b[31mValueError\u001b[39m: operands could not be broadcast together with remapped shapes [original->remapped]: (200,200)  and requested shape (200,200,3)"
     ]
    }
   ],
   "source": [
    "# RGB’e genişlet\n",
    "M = np.broadcast_to(M, (200,200, 3))\n",
    "\n",
    "plt.figure(figsize=(5,5))\n",
    "plt.imshow(M, extent=(-1,1,-1,1))\n",
    "plt.axis('off')\n",
    "plt.show()\n"
   ]
  },
  {
   "cell_type": "code",
   "execution_count": null,
   "id": "9de006f2",
   "metadata": {},
   "outputs": [],
   "source": []
  }
 ],
 "metadata": {
  "kernelspec": {
   "display_name": "Python 3",
   "language": "python",
   "name": "python3"
  },
  "language_info": {
   "codemirror_mode": {
    "name": "ipython",
    "version": 3
   },
   "file_extension": ".py",
   "mimetype": "text/x-python",
   "name": "python",
   "nbconvert_exporter": "python",
   "pygments_lexer": "ipython3",
   "version": "3.12.11"
  }
 },
 "nbformat": 4,
 "nbformat_minor": 5
}

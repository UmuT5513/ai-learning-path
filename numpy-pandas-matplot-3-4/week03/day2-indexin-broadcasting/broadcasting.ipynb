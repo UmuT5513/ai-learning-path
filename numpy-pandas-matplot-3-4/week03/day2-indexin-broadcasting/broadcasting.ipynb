{
 "cells": [
  {
   "cell_type": "code",
   "execution_count": 2,
   "id": "9d70ee93",
   "metadata": {},
   "outputs": [],
   "source": [
    "import numpy as np"
   ]
  },
  {
   "cell_type": "markdown",
   "id": "9df69f2d",
   "metadata": {},
   "source": [
    "# Broadcasting : dim compatibility"
   ]
  },
  {
   "cell_type": "code",
   "execution_count": 28,
   "id": "4bff0641",
   "metadata": {},
   "outputs": [
    {
     "data": {
      "text/plain": [
       "array([[0.44621157, 0.27235036, 0.25162996],\n",
       "       [0.41486348, 0.60692285, 0.18568896],\n",
       "       [0.22675968, 0.8407257 , 0.04523202],\n",
       "       [0.07144217, 0.8790162 , 0.61657104]])"
      ]
     },
     "execution_count": 28,
     "metadata": {},
     "output_type": "execute_result"
    }
   ],
   "source": [
    "arr = np.random.rand(4,3)\n",
    "arr"
   ]
  },
  {
   "cell_type": "code",
   "execution_count": 29,
   "id": "0c0fb4f1",
   "metadata": {},
   "outputs": [
    {
     "name": "stdout",
     "output_type": "stream",
     "text": [
      "sütunların mean'i : [0.28981922 0.64975378 0.27478049]\n",
      "satırların mean'i : [0.3233973  0.40249176 0.3709058  0.52234314]\n"
     ]
    }
   ],
   "source": [
    "print(f\"sütunların mean'i : {arr.mean(0)}\") # each column mean\n",
    "print(f\"satırların mean'i : {arr.mean(1)}\") # each row mean"
   ]
  },
  {
   "cell_type": "code",
   "execution_count": null,
   "id": "fbdf1fa1",
   "metadata": {},
   "outputs": [
    {
     "data": {
      "text/plain": [
       "array([0.3233973 , 0.40249176, 0.3709058 , 0.52234314])"
      ]
     },
     "execution_count": 30,
     "metadata": {},
     "output_type": "execute_result"
    }
   ],
   "source": [
    "row_means = arr.mean(1) \n",
    "row_means"
   ]
  },
  {
   "cell_type": "code",
   "execution_count": 31,
   "id": "4be33a7a",
   "metadata": {},
   "outputs": [
    {
     "data": {
      "text/plain": [
       "array([0.28981922, 0.64975378, 0.27478049])"
      ]
     },
     "execution_count": 31,
     "metadata": {},
     "output_type": "execute_result"
    }
   ],
   "source": [
    "column_means = arr.mean(0)\n",
    "column_means"
   ]
  },
  {
   "cell_type": "code",
   "execution_count": null,
   "id": "788e7c09",
   "metadata": {},
   "outputs": [
    {
     "ename": "ValueError",
     "evalue": "operands could not be broadcast together with shapes (4,3) (4,) ",
     "output_type": "error",
     "traceback": [
      "\u001b[31m---------------------------------------------------------------------------\u001b[39m",
      "\u001b[31mValueError\u001b[39m                                Traceback (most recent call last)",
      "\u001b[36mCell\u001b[39m\u001b[36m \u001b[39m\u001b[32mIn[32]\u001b[39m\u001b[32m, line 1\u001b[39m\n\u001b[32m----> \u001b[39m\u001b[32m1\u001b[39m \u001b[43marr\u001b[49m\u001b[43m-\u001b[49m\u001b[43mrow_means\u001b[49m\n",
      "\u001b[31mValueError\u001b[39m: operands could not be broadcast together with shapes (4,3) (4,) "
     ]
    }
   ],
   "source": [
    "arr-row_means # dim uyumsuzluğu arr->(4,3) row_means->(4,0) sebebiyle hata verir."
   ]
  },
  {
   "cell_type": "code",
   "execution_count": 33,
   "id": "161830d2",
   "metadata": {},
   "outputs": [
    {
     "data": {
      "text/plain": [
       "array([[ 0.15639234, -0.37740342, -0.02315053],\n",
       "       [ 0.12504426, -0.04283093, -0.08909153],\n",
       "       [-0.06305955,  0.19097193, -0.22954848],\n",
       "       [-0.21837706,  0.22926243,  0.34179054]])"
      ]
     },
     "execution_count": 33,
     "metadata": {},
     "output_type": "execute_result"
    }
   ],
   "source": [
    "arr - column_means"
   ]
  },
  {
   "cell_type": "code",
   "execution_count": 35,
   "id": "60ff86e5",
   "metadata": {},
   "outputs": [
    {
     "name": "stdout",
     "output_type": "stream",
     "text": [
      "[[0.3233973 ]\n",
      " [0.40249176]\n",
      " [0.3709058 ]\n",
      " [0.52234314]]\n",
      "[[-0.12281427  0.05104694  0.07176733]\n",
      " [-0.01237172 -0.20443108  0.2168028 ]\n",
      " [ 0.14414612 -0.4698199   0.32567378]\n",
      " [ 0.45090097 -0.35667307 -0.0942279 ]]\n"
     ]
    }
   ],
   "source": [
    "reshaped_row_means = row_means.reshape((4,1))\n",
    "print(reshaped_row_means)\n",
    "print(reshaped_row_means - arr)"
   ]
  },
  {
   "cell_type": "markdown",
   "id": "a1cabfc5",
   "metadata": {},
   "source": [
    "---"
   ]
  },
  {
   "cell_type": "markdown",
   "id": "e54e008b",
   "metadata": {},
   "source": [
    "## np.newaxis\n",
    "\n",
    "* boş boyut ekler"
   ]
  },
  {
   "cell_type": "code",
   "execution_count": 36,
   "id": "3b0e8b04",
   "metadata": {},
   "outputs": [
    {
     "data": {
      "text/plain": [
       "array([[ 0,  1,  2,  3],\n",
       "       [ 4,  5,  6,  7],\n",
       "       [ 8,  9, 10, 11]])"
      ]
     },
     "execution_count": 36,
     "metadata": {},
     "output_type": "execute_result"
    }
   ],
   "source": [
    "arr = np.arange(12).reshape((3,4))\n",
    "arr"
   ]
  },
  {
   "cell_type": "code",
   "execution_count": 40,
   "id": "8b436243",
   "metadata": {},
   "outputs": [
    {
     "name": "stdout",
     "output_type": "stream",
     "text": [
      "2\n",
      "(3, 4)\n"
     ]
    }
   ],
   "source": [
    "print(arr.ndim)\n",
    "print(arr.shape)"
   ]
  },
  {
   "cell_type": "code",
   "execution_count": 48,
   "id": "dd9fd15f",
   "metadata": {},
   "outputs": [
    {
     "name": "stdout",
     "output_type": "stream",
     "text": [
      "[1 5 9]\n",
      "(3,)\n",
      "[[1]\n",
      " [5]\n",
      " [9]]\n",
      "(3, 1)\n",
      "[[[1]]\n",
      "\n",
      " [[5]]\n",
      "\n",
      " [[9]]]\n",
      "(3, 1, 1)\n",
      "[[[[1]]\n",
      "\n",
      "  [[5]]\n",
      "\n",
      "  [[9]]]]\n",
      "(1, 3, 1, 1)\n"
     ]
    }
   ],
   "source": [
    "print(arr[:,1])\n",
    "print(arr[:,1].shape)\n",
    "print(arr[:,1,np.newaxis])\n",
    "print(arr[:,1,np.newaxis].shape)\n",
    "print(arr[:,1,np.newaxis, np.newaxis])\n",
    "print(arr[:,1,np.newaxis, np.newaxis].shape)\n",
    "print(arr[np.newaxis,:,1,np.newaxis, np.newaxis])\n",
    "print(arr[np.newaxis,:,1,np.newaxis, np.newaxis].shape)"
   ]
  },
  {
   "cell_type": "markdown",
   "id": "42a1e360",
   "metadata": {},
   "source": [
    "### slicing alıştırmaları"
   ]
  },
  {
   "cell_type": "code",
   "execution_count": 49,
   "id": "17cef43e",
   "metadata": {},
   "outputs": [
    {
     "data": {
      "text/plain": [
       "array([[[  0,   1,   2],\n",
       "        [  3,   4,   5],\n",
       "        [  6,   7,   8],\n",
       "        [  9,  10,  11],\n",
       "        [ 12,  13,  14]],\n",
       "\n",
       "       [[ 15,  16,  17],\n",
       "        [ 18,  19,  20],\n",
       "        [ 21,  22,  23],\n",
       "        [ 24,  25,  26],\n",
       "        [ 27,  28,  29]],\n",
       "\n",
       "       [[ 30,  31,  32],\n",
       "        [ 33,  34,  35],\n",
       "        [ 36,  37,  38],\n",
       "        [ 39,  40,  41],\n",
       "        [ 42,  43,  44]],\n",
       "\n",
       "       [[ 45,  46,  47],\n",
       "        [ 48,  49,  50],\n",
       "        [ 51,  52,  53],\n",
       "        [ 54,  55,  56],\n",
       "        [ 57,  58,  59]],\n",
       "\n",
       "       [[ 60,  61,  62],\n",
       "        [ 63,  64,  65],\n",
       "        [ 66,  67,  68],\n",
       "        [ 69,  70,  71],\n",
       "        [ 72,  73,  74]],\n",
       "\n",
       "       [[ 75,  76,  77],\n",
       "        [ 78,  79,  80],\n",
       "        [ 81,  82,  83],\n",
       "        [ 84,  85,  86],\n",
       "        [ 87,  88,  89]],\n",
       "\n",
       "       [[ 90,  91,  92],\n",
       "        [ 93,  94,  95],\n",
       "        [ 96,  97,  98],\n",
       "        [ 99, 100, 101],\n",
       "        [102, 103, 104]],\n",
       "\n",
       "       [[105, 106, 107],\n",
       "        [108, 109, 110],\n",
       "        [111, 112, 113],\n",
       "        [114, 115, 116],\n",
       "        [117, 118, 119]]])"
      ]
     },
     "execution_count": 49,
     "metadata": {},
     "output_type": "execute_result"
    }
   ],
   "source": [
    "arr = np.arange(120).reshape((8,5,3))\n",
    "arr"
   ]
  },
  {
   "cell_type": "code",
   "execution_count": 55,
   "id": "47592f09",
   "metadata": {},
   "outputs": [
    {
     "name": "stdout",
     "output_type": "stream",
     "text": [
      "3\n",
      "(8, 5, 3)\n"
     ]
    }
   ],
   "source": [
    "print(arr.ndim)\n",
    "print(arr.shape)"
   ]
  },
  {
   "cell_type": "code",
   "execution_count": null,
   "id": "1938bed1",
   "metadata": {},
   "outputs": [
    {
     "name": "stdout",
     "output_type": "stream",
     "text": [
      "[[[ 0  1  2]\n",
      "  [ 3  4  5]\n",
      "  [ 6  7  8]\n",
      "  [ 9 10 11]\n",
      "  [12 13 14]]]\n",
      "(1, 5, 3)\n",
      "[[[15 16 17]\n",
      "  [18 19 20]\n",
      "  [21 22 23]\n",
      "  [24 25 26]\n",
      "  [27 28 29]]]\n",
      "(1, 5, 3)\n",
      "[[[30 31 32]\n",
      "  [33 34 35]\n",
      "  [36 37 38]\n",
      "  [39 40 41]\n",
      "  [42 43 44]]]\n",
      "(1, 5, 3)\n",
      "[[[45 46 47]\n",
      "  [48 49 50]\n",
      "  [51 52 53]\n",
      "  [54 55 56]\n",
      "  [57 58 59]]]\n",
      "(1, 5, 3)\n",
      "[[[60 61 62]\n",
      "  [63 64 65]\n",
      "  [66 67 68]\n",
      "  [69 70 71]\n",
      "  [72 73 74]]]\n",
      "(1, 5, 3)\n",
      "[[[75 76 77]\n",
      "  [78 79 80]\n",
      "  [81 82 83]\n",
      "  [84 85 86]\n",
      "  [87 88 89]]]\n",
      "(1, 5, 3)\n",
      "[[[ 90  91  92]\n",
      "  [ 93  94  95]\n",
      "  [ 96  97  98]\n",
      "  [ 99 100 101]\n",
      "  [102 103 104]]]\n",
      "(1, 5, 3)\n",
      "[[[105 106 107]\n",
      "  [108 109 110]\n",
      "  [111 112 113]\n",
      "  [114 115 116]\n",
      "  [117 118 119]]]\n",
      "(1, 5, 3)\n"
     ]
    }
   ],
   "source": [
    "# Önden bakış\n",
    "\n",
    "axis0_1 = arr[np.newaxis,0]\n",
    "print(axis0_1)\n",
    "print(axis0_1.shape)\n",
    "axis0_2 = arr[np.newaxis,1]\n",
    "print(axis0_2)\n",
    "print(axis0_2.shape)\n",
    "axis0_3 = arr[np.newaxis,2]\n",
    "print(axis0_3)\n",
    "print(axis0_3.shape)\n",
    "axis0_4 = arr[np.newaxis,3]\n",
    "print(axis0_4)\n",
    "print(axis0_4.shape)\n",
    "axis0_5 = arr[np.newaxis,4]\n",
    "print(axis0_5)\n",
    "print(axis0_5.shape)\n",
    "axis0_6 = arr[np.newaxis,5]\n",
    "print(axis0_6)\n",
    "print(axis0_6.shape)\n",
    "axis0_7 = arr[np.newaxis,6]\n",
    "print(axis0_7)\n",
    "print(axis0_7.shape)\n",
    "axis0_8 = arr[np.newaxis,7]\n",
    "print(axis0_8)\n",
    "print(axis0_8.shape)"
   ]
  },
  {
   "cell_type": "code",
   "execution_count": 65,
   "id": "98af35a5",
   "metadata": {},
   "outputs": [
    {
     "name": "stdout",
     "output_type": "stream",
     "text": [
      "[[  2  17  32  47  62  77  92 107]\n",
      " [  5  20  35  50  65  80  95 110]\n",
      " [  8  23  38  53  68  83  98 113]\n",
      " [ 11  26  41  56  71  86 101 116]\n",
      " [ 14  29  44  59  74  89 104 119]]\n",
      "(5, 8)\n",
      "2\n",
      "[[  1  16  31  46  61  76  91 106]\n",
      " [  4  19  34  49  64  79  94 109]\n",
      " [  7  22  37  52  67  82  97 112]\n",
      " [ 10  25  40  55  70  85 100 115]\n",
      " [ 13  28  43  58  73  88 103 118]]\n",
      "(5, 8)\n",
      "2\n",
      "[[  0  15  30  45  60  75  90 105]\n",
      " [  3  18  33  48  63  78  93 108]\n",
      " [  6  21  36  51  66  81  96 111]\n",
      " [  9  24  39  54  69  84  99 114]\n",
      " [ 12  27  42  57  72  87 102 117]]\n",
      "(5, 8)\n",
      "2\n"
     ]
    }
   ],
   "source": [
    "# Sağdan Bakış\n",
    "\n",
    "print(arr[:,:,2].T)\n",
    "print(arr[:,:,2].T.shape)\n",
    "print(arr[:,:,2].T.ndim)\n",
    "print(arr[:,:,1].T)\n",
    "print(arr[:,:,1].T.shape)\n",
    "print(arr[:,:,1].T.ndim)\n",
    "print(arr[:,:,0].T)\n",
    "print(arr[:,:,0].T.shape)\n",
    "print(arr[:,:,0].T.ndim)"
   ]
  },
  {
   "cell_type": "code",
   "execution_count": null,
   "id": "8699844e",
   "metadata": {},
   "outputs": [
    {
     "name": "stdout",
     "output_type": "stream",
     "text": [
      "[[  0   1   2]\n",
      " [ 15  16  17]\n",
      " [ 30  31  32]\n",
      " [ 45  46  47]\n",
      " [ 60  61  62]\n",
      " [ 75  76  77]\n",
      " [ 90  91  92]\n",
      " [105 106 107]]\n",
      "[[  3   4   5]\n",
      " [ 18  19  20]\n",
      " [ 33  34  35]\n",
      " [ 48  49  50]\n",
      " [ 63  64  65]\n",
      " [ 78  79  80]\n",
      " [ 93  94  95]\n",
      " [108 109 110]]\n",
      "[[  6   7   8]\n",
      " [ 21  22  23]\n",
      " [ 36  37  38]\n",
      " [ 51  52  53]\n",
      " [ 66  67  68]\n",
      " [ 81  82  83]\n",
      " [ 96  97  98]\n",
      " [111 112 113]]\n",
      "[[  9  10  11]\n",
      " [ 24  25  26]\n",
      " [ 39  40  41]\n",
      " [ 54  55  56]\n",
      " [ 69  70  71]\n",
      " [ 84  85  86]\n",
      " [ 99 100 101]\n",
      " [114 115 116]]\n",
      "[[ 12  13  14]\n",
      " [ 27  28  29]\n",
      " [ 42  43  44]\n",
      " [ 57  58  59]\n",
      " [ 72  73  74]\n",
      " [ 87  88  89]\n",
      " [102 103 104]\n",
      " [117 118 119]]\n"
     ]
    }
   ],
   "source": [
    "# Üsstten bakış\n",
    "\n",
    "print(arr[:,0,:]) #ilk sıra\n",
    "print(arr[:,1,:]) #ikinci sıra\n",
    "print(arr[:,2,:]) #3\n",
    "print(arr[:,3,:]) #4\n",
    "print(arr[:,4,:]) #5\n",
    "\n"
   ]
  },
  {
   "cell_type": "markdown",
   "id": "8711e404",
   "metadata": {},
   "source": [
    "# np.where()\n",
    "\n",
    "* `arr = np.where(condition, x, y)`, **condition**: arr'dan seçilecek elemanların koşulu.\n",
    "\n",
    "**x**: koşul doğruysa eleman yerine döndürülecek değer.\n",
    "\n",
    "**y**: koşul yanlışsa...."
   ]
  },
  {
   "cell_type": "code",
   "execution_count": 70,
   "id": "3ab6a60b",
   "metadata": {},
   "outputs": [
    {
     "data": {
      "text/plain": [
       "array([1, 0, 1, 1, 0, 1])"
      ]
     },
     "execution_count": 70,
     "metadata": {},
     "output_type": "execute_result"
    }
   ],
   "source": [
    "arr = np.array([100,23,61,78,40,250])\n",
    "arr = np.where(arr>40, 1, 0)\n",
    "arr"
   ]
  },
  {
   "cell_type": "code",
   "execution_count": 72,
   "id": "f737f26a",
   "metadata": {},
   "outputs": [
    {
     "data": {
      "text/plain": [
       "array([100,  24,  61,  78,  18, 250])"
      ]
     },
     "execution_count": 72,
     "metadata": {},
     "output_type": "execute_result"
    }
   ],
   "source": [
    "arr1 = np.array([100,23,61,78,40,250])\n",
    "arr2 = np.array([15,24,16,17,18,19])\n",
    "\n",
    "arr1 = np.where(arr1>40, arr1, arr2)\n",
    "arr1\n",
    "# arr1 üzerinde, eğer ilgili eleman 40 dan büyükse arr1 den döndür. değilse arr2 den."
   ]
  },
  {
   "cell_type": "markdown",
   "id": "c52055a7",
   "metadata": {},
   "source": [
    "# np.broadcast_to\n",
    "\n",
    "* `np.broadcast_to(array, shape, subok=True/False)`: arrayi istenilen boyuta çekme"
   ]
  },
  {
   "cell_type": "code",
   "execution_count": 77,
   "id": "0d746fa4",
   "metadata": {},
   "outputs": [
    {
     "data": {
      "text/plain": [
       "array([[1, 2, 3, 4],\n",
       "       [1, 2, 3, 4],\n",
       "       [1, 2, 3, 4],\n",
       "       [1, 2, 3, 4],\n",
       "       [1, 2, 3, 4],\n",
       "       [1, 2, 3, 4],\n",
       "       [1, 2, 3, 4],\n",
       "       [1, 2, 3, 4],\n",
       "       [1, 2, 3, 4],\n",
       "       [1, 2, 3, 4],\n",
       "       [1, 2, 3, 4],\n",
       "       [1, 2, 3, 4],\n",
       "       [1, 2, 3, 4],\n",
       "       [1, 2, 3, 4],\n",
       "       [1, 2, 3, 4],\n",
       "       [1, 2, 3, 4],\n",
       "       [1, 2, 3, 4],\n",
       "       [1, 2, 3, 4],\n",
       "       [1, 2, 3, 4],\n",
       "       [1, 2, 3, 4],\n",
       "       [1, 2, 3, 4],\n",
       "       [1, 2, 3, 4],\n",
       "       [1, 2, 3, 4],\n",
       "       [1, 2, 3, 4],\n",
       "       [1, 2, 3, 4],\n",
       "       [1, 2, 3, 4],\n",
       "       [1, 2, 3, 4],\n",
       "       [1, 2, 3, 4],\n",
       "       [1, 2, 3, 4],\n",
       "       [1, 2, 3, 4],\n",
       "       [1, 2, 3, 4],\n",
       "       [1, 2, 3, 4]])"
      ]
     },
     "execution_count": 77,
     "metadata": {},
     "output_type": "execute_result"
    }
   ],
   "source": [
    "arr = np.array([1,2,3,4])\n",
    "arr = np.broadcast_to(arr, (32,4))\n",
    "arr"
   ]
  },
  {
   "cell_type": "code",
   "execution_count": null,
   "id": "294a88da",
   "metadata": {},
   "outputs": [],
   "source": []
  }
 ],
 "metadata": {
  "kernelspec": {
   "display_name": "Python 3",
   "language": "python",
   "name": "python3"
  },
  "language_info": {
   "codemirror_mode": {
    "name": "ipython",
    "version": 3
   },
   "file_extension": ".py",
   "mimetype": "text/x-python",
   "name": "python",
   "nbconvert_exporter": "python",
   "pygments_lexer": "ipython3",
   "version": "3.12.11"
  }
 },
 "nbformat": 4,
 "nbformat_minor": 5
}

{
 "cells": [
  {
   "cell_type": "code",
   "execution_count": 1,
   "id": "e4872231",
   "metadata": {},
   "outputs": [],
   "source": [
    "import numpy as np"
   ]
  },
  {
   "cell_type": "markdown",
   "id": "9ce7b083",
   "metadata": {},
   "source": [
    "# Boolen Indexing"
   ]
  },
  {
   "cell_type": "code",
   "execution_count": 4,
   "id": "959e13f7",
   "metadata": {},
   "outputs": [
    {
     "data": {
      "text/plain": [
       "array([[0.32047996, 0.55586796, 0.90611861],\n",
       "       [0.69440431, 0.82752439, 0.57164719],\n",
       "       [0.45682523, 0.55379912, 0.20875765]])"
      ]
     },
     "execution_count": 4,
     "metadata": {},
     "output_type": "execute_result"
    }
   ],
   "source": [
    "arr = np.random.rand(3,3)\n",
    "arr"
   ]
  },
  {
   "cell_type": "code",
   "execution_count": 19,
   "id": "c5140be0",
   "metadata": {},
   "outputs": [
    {
     "name": "stdout",
     "output_type": "stream",
     "text": [
      "[0.45682523 0.55379912 0.20875765]\n",
      "(3,)\n",
      "[[0.45682523 0.55379912 0.20875765]]\n",
      "(1, 3)\n"
     ]
    }
   ],
   "source": [
    "print(arr[2])\n",
    "print(arr[2].shape)\n",
    "print(arr[2:])\n",
    "print(arr[2:].shape)"
   ]
  },
  {
   "cell_type": "code",
   "execution_count": 23,
   "id": "f1a724db",
   "metadata": {},
   "outputs": [
    {
     "name": "stdout",
     "output_type": "stream",
     "text": [
      "[[0.32047996 0.55586796]\n",
      " [0.69440431 0.82752439]\n",
      " [0.45682523 0.55379912]]\n",
      "(3, 2)\n"
     ]
    }
   ],
   "source": [
    "print(arr[:,:2])\n",
    "print(arr[:,:2].shape)"
   ]
  },
  {
   "cell_type": "code",
   "execution_count": 27,
   "id": "e663e6a1",
   "metadata": {},
   "outputs": [
    {
     "name": "stdout",
     "output_type": "stream",
     "text": [
      "[0.69440431 0.82752439]\n",
      "(2,)\n"
     ]
    }
   ],
   "source": [
    "print(arr[1,:2])\n",
    "print(arr[1,:2].shape)"
   ]
  },
  {
   "cell_type": "markdown",
   "id": "bb19e431",
   "metadata": {},
   "source": [
    "* `arr[a:b,c:d]` **-->** **:**, *slice* sembolüdür. İfadede **a.satırdan b ye kadar(b dahil değil)** olan satırları dahil tutar. c ve d için de geçerli.\n",
    "\n",
    "* `arr[a:,:]` **-->** **a. indexe ait olan satırı** ve sonrasını dahil tutar. Virgülden sonrası tüm **sütunlar** dahil.\n",
    "\n",
    "* `arr[:,:b]` **-->** **b. indexe ait olan sütun hariç** öncesini tutar. Tüm satırlar dahil."
   ]
  },
  {
   "cell_type": "markdown",
   "id": "a04f20b9",
   "metadata": {},
   "source": [
    "---"
   ]
  },
  {
   "cell_type": "code",
   "execution_count": 34,
   "id": "343c1425",
   "metadata": {},
   "outputs": [],
   "source": [
    "names = np.array(['Bob', 'Joe', 'Bob'])"
   ]
  },
  {
   "cell_type": "code",
   "execution_count": 35,
   "id": "c6f070c8",
   "metadata": {},
   "outputs": [
    {
     "data": {
      "text/plain": [
       "array([ True, False,  True])"
      ]
     },
     "execution_count": 35,
     "metadata": {},
     "output_type": "execute_result"
    }
   ],
   "source": [
    "names == 'Bob'"
   ]
  },
  {
   "cell_type": "code",
   "execution_count": 37,
   "id": "7b0cdc98",
   "metadata": {},
   "outputs": [
    {
     "data": {
      "text/plain": [
       "array([[0.32047996, 0.55586796, 0.90611861],\n",
       "       [0.69440431, 0.82752439, 0.57164719],\n",
       "       [0.45682523, 0.55379912, 0.20875765]])"
      ]
     },
     "execution_count": 37,
     "metadata": {},
     "output_type": "execute_result"
    }
   ],
   "source": [
    "arr"
   ]
  },
  {
   "cell_type": "code",
   "execution_count": 36,
   "id": "cfc9a136",
   "metadata": {},
   "outputs": [
    {
     "data": {
      "text/plain": [
       "array([[0.32047996, 0.55586796, 0.90611861],\n",
       "       [0.45682523, 0.55379912, 0.20875765]])"
      ]
     },
     "execution_count": 36,
     "metadata": {},
     "output_type": "execute_result"
    }
   ],
   "source": [
    "arr[names == 'Bob']"
   ]
  },
  {
   "cell_type": "markdown",
   "id": "30e3bd19",
   "metadata": {},
   "source": [
    "* ilk satır için `names == 'Bob' ` **true** döndürdüğü için `arr[names == 'Bob']` da ilk satır dahil oldu. **2.satır** için false, haliyle dahil değil. **3** keza ilk satır gibi."
   ]
  },
  {
   "cell_type": "code",
   "execution_count": 38,
   "id": "b0ba3587",
   "metadata": {},
   "outputs": [
    {
     "data": {
      "text/plain": [
       "array([ True,  True,  True])"
      ]
     },
     "execution_count": 38,
     "metadata": {},
     "output_type": "execute_result"
    }
   ],
   "source": [
    "mask = (names == 'Bob') | (names == 'Joe')\n",
    "mask"
   ]
  },
  {
   "cell_type": "code",
   "execution_count": 39,
   "id": "59478943",
   "metadata": {},
   "outputs": [
    {
     "data": {
      "text/plain": [
       "array([[0.32047996, 0.55586796, 0.90611861],\n",
       "       [0.69440431, 0.82752439, 0.57164719],\n",
       "       [0.45682523, 0.55379912, 0.20875765]])"
      ]
     },
     "execution_count": 39,
     "metadata": {},
     "output_type": "execute_result"
    }
   ],
   "source": [
    "arr[mask]"
   ]
  },
  {
   "cell_type": "code",
   "execution_count": 40,
   "id": "3c6b2fad",
   "metadata": {},
   "outputs": [
    {
     "data": {
      "text/plain": [
       "array([], shape=(0, 3), dtype=float64)"
      ]
     },
     "execution_count": 40,
     "metadata": {},
     "output_type": "execute_result"
    }
   ],
   "source": [
    "arr[~mask]"
   ]
  },
  {
   "cell_type": "markdown",
   "id": "19896701",
   "metadata": {},
   "source": [
    "* Bir arrayden **boolen indexing** ile veri çekmek *daima* array'in copy sini oluşturur."
   ]
  },
  {
   "cell_type": "markdown",
   "id": "c16f0caf",
   "metadata": {},
   "source": [
    "---"
   ]
  },
  {
   "cell_type": "code",
   "execution_count": 42,
   "id": "ef79a158",
   "metadata": {},
   "outputs": [
    {
     "data": {
      "text/plain": [
       "array([[ 1.35201278, -0.24173558,  1.23186734],\n",
       "       [ 0.64807199,  1.13878047, -1.01436298],\n",
       "       [ 0.4447134 , -1.20243027, -0.2712965 ],\n",
       "       [ 1.07522905,  2.95380007,  0.92793054]])"
      ]
     },
     "execution_count": 42,
     "metadata": {},
     "output_type": "execute_result"
    }
   ],
   "source": [
    "data = np.random.randn(4,3)\n",
    "data"
   ]
  },
  {
   "cell_type": "code",
   "execution_count": 43,
   "id": "a956f33a",
   "metadata": {},
   "outputs": [],
   "source": [
    "names = np.array(['Bob', 'Joe', 'Will', 'Bob'])"
   ]
  },
  {
   "cell_type": "code",
   "execution_count": 44,
   "id": "c039de1b",
   "metadata": {},
   "outputs": [
    {
     "data": {
      "text/plain": [
       "array([ True, False, False,  True])"
      ]
     },
     "execution_count": 44,
     "metadata": {},
     "output_type": "execute_result"
    }
   ],
   "source": [
    "mask = names == 'Bob'\n",
    "mask"
   ]
  },
  {
   "cell_type": "code",
   "execution_count": 46,
   "id": "cf115d50",
   "metadata": {},
   "outputs": [
    {
     "data": {
      "text/plain": [
       "array([[ 7.        ,  7.        ,  7.        ],\n",
       "       [ 0.64807199,  1.13878047, -1.01436298],\n",
       "       [ 0.4447134 , -1.20243027, -0.2712965 ],\n",
       "       [ 7.        ,  7.        ,  7.        ]])"
      ]
     },
     "execution_count": 46,
     "metadata": {},
     "output_type": "execute_result"
    }
   ],
   "source": [
    "data[mask] = 7\n",
    "data"
   ]
  },
  {
   "cell_type": "markdown",
   "id": "132c2bca",
   "metadata": {},
   "source": [
    "* names ile bir mask filtresi oluşturdum. Bu mask ı data ya uyguladım. maskın true olduğu kısımlarda filtre uygulandı."
   ]
  },
  {
   "cell_type": "markdown",
   "id": "d8e8d4af",
   "metadata": {},
   "source": [
    "# Fancy Indexing"
   ]
  },
  {
   "cell_type": "code",
   "execution_count": 52,
   "id": "c82bb34d",
   "metadata": {},
   "outputs": [],
   "source": [
    "arr = np.array([10,2,31,17,51,68,7,23])\n",
    "ind = [1,3,5]"
   ]
  },
  {
   "cell_type": "code",
   "execution_count": 53,
   "id": "c8e8c0f2",
   "metadata": {},
   "outputs": [
    {
     "data": {
      "text/plain": [
       "array([ 2, 17, 68])"
      ]
     },
     "execution_count": 53,
     "metadata": {},
     "output_type": "execute_result"
    }
   ],
   "source": [
    "arr[ind]"
   ]
  },
  {
   "cell_type": "code",
   "execution_count": 55,
   "id": "e6321625",
   "metadata": {},
   "outputs": [
    {
     "data": {
      "text/plain": [
       "array([ 7.        , -1.20243027])"
      ]
     },
     "execution_count": 55,
     "metadata": {},
     "output_type": "execute_result"
    }
   ],
   "source": [
    "data[[0,2],[2,1]]\n",
    "# array([7, -1.20243027])"
   ]
  },
  {
   "cell_type": "markdown",
   "id": "ad137fa4",
   "metadata": {},
   "source": [
    "* soldaki **[0,2]** satırları, **[2,1]** ise sütunları belirtir. Mesela, `[0,]-[2,] --> 0.satırın 2.indexdeki elemanı` "
   ]
  },
  {
   "cell_type": "markdown",
   "id": "597e9cd0",
   "metadata": {},
   "source": [
    "---"
   ]
  },
  {
   "cell_type": "code",
   "execution_count": 59,
   "id": "988028a3",
   "metadata": {},
   "outputs": [
    {
     "data": {
      "text/plain": [
       "array([[ 0,  1,  2,  3],\n",
       "       [ 4,  5,  6,  7],\n",
       "       [ 8,  9, 10, 11],\n",
       "       [12, 13, 14, 15],\n",
       "       [16, 17, 18, 19],\n",
       "       [20, 21, 22, 23],\n",
       "       [24, 25, 26, 27],\n",
       "       [28, 29, 30, 31]])"
      ]
     },
     "execution_count": 59,
     "metadata": {},
     "output_type": "execute_result"
    }
   ],
   "source": [
    "arr = np.arange(32).reshape((8,4))\n",
    "arr"
   ]
  },
  {
   "cell_type": "code",
   "execution_count": 62,
   "id": "0a78e3fa",
   "metadata": {},
   "outputs": [
    {
     "data": {
      "text/plain": [
       "array([[ 4,  7,  5,  6],\n",
       "       [20, 23, 21, 22],\n",
       "       [28, 31, 29, 30],\n",
       "       [ 8, 11,  9, 10]])"
      ]
     },
     "execution_count": 62,
     "metadata": {},
     "output_type": "execute_result"
    }
   ],
   "source": [
    "arr[np.ix_([1,5,7,2],[0,3,1,2])]"
   ]
  },
  {
   "cell_type": "markdown",
   "id": "8eae1729",
   "metadata": {},
   "source": [
    "* **1.** sütunun **0. , 3. , 1. ve 2.** elemanını al.\n",
    "\n",
    "* **5.** sütunun **0. , 3. , 1. ve 2.** elemanını al.\n",
    "\n",
    "* **7.** sütunun **0. , 3. , 1. ve 2.** elemanını al.\n",
    "\n",
    "* **2.** sütunun **0. , 3. , 1. ve 2.** elemanını al."
   ]
  },
  {
   "cell_type": "code",
   "execution_count": null,
   "id": "758f701c",
   "metadata": {},
   "outputs": [],
   "source": []
  }
 ],
 "metadata": {
  "kernelspec": {
   "display_name": "ai",
   "language": "python",
   "name": "python3"
  },
  "language_info": {
   "codemirror_mode": {
    "name": "ipython",
    "version": 3
   },
   "file_extension": ".py",
   "mimetype": "text/x-python",
   "name": "python",
   "nbconvert_exporter": "python",
   "pygments_lexer": "ipython3",
   "version": "3.12.11"
  }
 },
 "nbformat": 4,
 "nbformat_minor": 5
}

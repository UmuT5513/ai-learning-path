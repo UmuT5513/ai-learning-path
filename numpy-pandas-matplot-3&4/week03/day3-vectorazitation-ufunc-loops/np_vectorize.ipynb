{
 "cells": [
  {
   "cell_type": "code",
   "execution_count": 1,
   "id": "5f333773",
   "metadata": {},
   "outputs": [],
   "source": [
    "import numpy as np"
   ]
  },
  {
   "cell_type": "markdown",
   "id": "6f5d882c",
   "metadata": {},
   "source": [
    "# Numpy Vectorization"
   ]
  },
  {
   "cell_type": "code",
   "execution_count": 2,
   "id": "6aefa0b8",
   "metadata": {},
   "outputs": [
    {
     "name": "stdout",
     "output_type": "stream",
     "text": [
      "[11 12 13 14 15]\n"
     ]
    }
   ],
   "source": [
    "import numpy as np\n",
    "\n",
    "array1 = np.array([1, 2, 3, 4, 5 ])\n",
    "number = 10\n",
    "\n",
    "#  number sums up with each array element\n",
    "result = array1 + number\n",
    "\n",
    "print(result)"
   ]
  },
  {
   "cell_type": "markdown",
   "id": "c5fd9e3f",
   "metadata": {},
   "source": [
    "* This is possible because of vectorization."
   ]
  },
  {
   "cell_type": "code",
   "execution_count": 3,
   "id": "b7d9c7a7",
   "metadata": {},
   "outputs": [
    {
     "name": "stdout",
     "output_type": "stream",
     "text": [
      "Sum between two arrays:\n",
      " [[1 3 5]\n",
      " [4 6 8]]\n"
     ]
    }
   ],
   "source": [
    "# define two 2D arrays\n",
    "array1 = np.array([[1, 2, 3], [4, 5, 6]])\n",
    "array2 = np.array([[0, 1, 2], [0, 1, 2]])\n",
    "\n",
    "# add two arrays (vectorization)\n",
    "array_sum = array1 + array2\n",
    "\n",
    "print(\"Sum between two arrays:\\n\", array_sum)"
   ]
  },
  {
   "cell_type": "markdown",
   "id": "5626de33",
   "metadata": {},
   "source": [
    "* This is also a vectorized operation, where corresponding elements of two arrays are added together element-wise."
   ]
  },
  {
   "cell_type": "markdown",
   "id": "4a08c6e0",
   "metadata": {},
   "source": [
    "# Numpy Vectorization Vs Python for Loop"
   ]
  },
  {
   "cell_type": "markdown",
   "id": "046ce3bd",
   "metadata": {},
   "source": [
    "## python for loop"
   ]
  },
  {
   "cell_type": "code",
   "execution_count": 13,
   "id": "3a57740c",
   "metadata": {},
   "outputs": [
    {
     "name": "stdout",
     "output_type": "stream",
     "text": [
      "For loop time: 0.0010902881622314453\n"
     ]
    }
   ],
   "source": [
    "import time\n",
    "\n",
    "start = time.time()\n",
    "\n",
    "array1 = [1, 2, 3, 4, 5]\n",
    "\n",
    "for i in range(len(array1)):\n",
    "    array1[i] += 10\n",
    "\n",
    "time.sleep(0.5)\n",
    "end = time.time()\n",
    "\n",
    "print(\"For loop time:\", end - start - 0.5)"
   ]
  },
  {
   "cell_type": "markdown",
   "id": "9fea9dab",
   "metadata": {},
   "source": [
    "## Numpy Vectorization"
   ]
  },
  {
   "cell_type": "code",
   "execution_count": 14,
   "id": "640a2d85",
   "metadata": {},
   "outputs": [
    {
     "name": "stdout",
     "output_type": "stream",
     "text": [
      "Vectorization time: 0.00038433074951171875\n"
     ]
    }
   ],
   "source": [
    "start = time.time()\n",
    "\n",
    "array1 = np.array([1, 2, 3, 4, 5 ])\n",
    "\n",
    "result = array1 + 10\n",
    "\n",
    "time.sleep(0.5)\n",
    "end = time.time()\n",
    "\n",
    "print(\"Vectorization time:\", end - start - 0.5)"
   ]
  },
  {
   "cell_type": "markdown",
   "id": "85907851",
   "metadata": {},
   "source": [
    "# Numpy Vectorize() Function"
   ]
  },
  {
   "cell_type": "markdown",
   "id": "ffed4b3b",
   "metadata": {},
   "source": [
    "* ****In NumPy, every mathematical operation with arrays is automatically vectorized.****"
   ]
  },
  {
   "cell_type": "code",
   "execution_count": null,
   "id": "b2543f7c",
   "metadata": {},
   "outputs": [],
   "source": [
    "import time\n",
    "\n",
    "arr = np.array([1, 2, 3, 4, 5])\n",
    "\n",
    "def add_10(x):\n",
    "    return x + 10"
   ]
  },
  {
   "cell_type": "code",
   "execution_count": 65,
   "id": "f52efac7",
   "metadata": {},
   "outputs": [
    {
     "name": "stdout",
     "output_type": "stream",
     "text": [
      "[11 12 13 14 15] 0.5014753341674805\n"
     ]
    }
   ],
   "source": [
    "start = time.time()\n",
    "vectorized = np.vectorize(add_10)\n",
    "result = vectorized(arr)\n",
    "time.sleep(0.5)\n",
    "end = time.time()\n",
    "\n",
    "print(result, end - start)"
   ]
  },
  {
   "cell_type": "code",
   "execution_count": 66,
   "id": "af76f23a",
   "metadata": {},
   "outputs": [
    {
     "name": "stdout",
     "output_type": "stream",
     "text": [
      "[11. 12. 13. 14. 15.] 0.5013911724090576\n"
     ]
    }
   ],
   "source": [
    "start = time.time()\n",
    "result = np.array([])\n",
    "for i in range(len(arr)):\n",
    "    result = np.append(result, (arr[i] + 10))\n",
    "result = np.array(result)\n",
    "time.sleep(0.5)\n",
    "end = time.time()\n",
    "\n",
    "print(result, end - start)\n"
   ]
  },
  {
   "cell_type": "code",
   "execution_count": null,
   "id": "110343f0",
   "metadata": {},
   "outputs": [],
   "source": []
  }
 ],
 "metadata": {
  "kernelspec": {
   "display_name": "Python 3",
   "language": "python",
   "name": "python3"
  },
  "language_info": {
   "codemirror_mode": {
    "name": "ipython",
    "version": 3
   },
   "file_extension": ".py",
   "mimetype": "text/x-python",
   "name": "python",
   "nbconvert_exporter": "python",
   "pygments_lexer": "ipython3",
   "version": "3.12.11"
  }
 },
 "nbformat": 4,
 "nbformat_minor": 5
}

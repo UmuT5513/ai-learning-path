{
 "cells": [
  {
   "cell_type": "code",
   "execution_count": 1,
   "id": "e2d14950",
   "metadata": {},
   "outputs": [],
   "source": [
    "import pandas as pd"
   ]
  },
  {
   "cell_type": "code",
   "execution_count": 2,
   "id": "9baf5a98",
   "metadata": {},
   "outputs": [
    {
     "name": "stdout",
     "output_type": "stream",
     "text": [
      "            value\n",
      "2023-01-01     12\n",
      "2023-01-02     22\n",
      "2023-01-03     45\n",
      "2023-01-04     82\n",
      "2023-01-05     26\n",
      "2023-01-06     93\n",
      "2023-01-07     53\n",
      "2023-01-08     93\n",
      "2023-01-09     68\n",
      "2023-01-10     19\n"
     ]
    }
   ],
   "source": [
    "import pandas as pd\n",
    "import numpy as np\n",
    "\n",
    "# 10 günlük örnek veri\n",
    "dates = pd.date_range(start=\"2023-01-01\", periods=10, freq=\"D\")\n",
    "data = np.random.randint(10, 100, size=10)\n",
    "df = pd.DataFrame({\"value\": data}, index=dates)\n",
    "print(df)\n"
   ]
  },
  {
   "cell_type": "code",
   "execution_count": null,
   "id": "f0c7365b",
   "metadata": {},
   "outputs": [],
   "source": []
  }
 ],
 "metadata": {
  "kernelspec": {
   "display_name": "Python 3",
   "language": "python",
   "name": "python3"
  },
  "language_info": {
   "codemirror_mode": {
    "name": "ipython",
    "version": 3
   },
   "file_extension": ".py",
   "mimetype": "text/x-python",
   "name": "python",
   "nbconvert_exporter": "python",
   "pygments_lexer": "ipython3",
   "version": "3.12.11"
  }
 },
 "nbformat": 4,
 "nbformat_minor": 5
}
